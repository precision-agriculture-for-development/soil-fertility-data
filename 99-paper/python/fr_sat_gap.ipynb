{
 "cells": [
  {
   "cell_type": "markdown",
   "metadata": {},
   "source": [
    "# Description"
   ]
  },
  {
   "cell_type": "markdown",
   "metadata": {},
   "source": [
    "This notebook examines whether the gap between farmer-reported and satellite-estimated yield can be predicted. Other than sowing time, each of the independent variables used is from the baseline. The CSV imported is generated from Stata. The code is in do/data_preparation.do which is called by do/main.do. The CSV is not tracked by Git, so the do file must be executed before running this notebook."
   ]
  },
  {
   "cell_type": "markdown",
   "metadata": {},
   "source": [
    "# Imports and data preparation "
   ]
  },
  {
   "cell_type": "code",
   "execution_count": 1,
   "metadata": {},
   "outputs": [],
   "source": [
    "import numpy as np\n",
    "import pandas as pd\n",
    "from sklearn.impute import SimpleImputer\n",
    "from sklearn.model_selection import train_test_split\n",
    "from sklearn.linear_model import ElasticNetCV, ElasticNet\n",
    "from sklearn.ensemble import RandomForestRegressor\n",
    "from sklearn.metrics import r2_score\n",
    "from sklearn.model_selection import GridSearchCV\n",
    "from sklearn.neural_network import MLPRegressor\n",
    "from sklearn.preprocessing import StandardScaler\n",
    "from sklearn.ensemble import BaggingRegressor\n",
    "import matplotlib.pyplot as plt\n",
    "import matplotlib.colors as colors\n",
    "import matplotlib.cm as cmx"
   ]
  },
  {
   "cell_type": "code",
   "execution_count": 2,
   "metadata": {},
   "outputs": [],
   "source": [
    "raw_df = pd.read_csv('../data/nosync/fr_sat_gap_analysis.csv')\n",
    "raw_df.set_index('uid', inplace=True)\n",
    "\n",
    "# Imput missing DVs to the median \n",
    "fill_NaN = SimpleImputer(strategy='median')\n",
    "df = pd.DataFrame(fill_NaN.fit_transform(raw_df))\n",
    "df.columns = raw_df.columns\n",
    "df.index = raw_df.index\n",
    "\n",
    "# Separate IVs and DVs\n",
    "Y = df[['difference_fr_sat', 'distance_fr_sat']]\n",
    "X = df.drop(columns=['difference_fr_sat', 'distance_fr_sat'])\n",
    "\n",
    "# Split data into training and testing samples \n",
    "X_train, X_test, Y_train, Y_test = train_test_split(X, Y, test_size=0.2, random_state=1)\n",
    "\n",
    "y_train_diff = Y_train['difference_fr_sat']\n",
    "y_test_diff = Y_test['difference_fr_sat']\n",
    "y_train_dist = Y_train['distance_fr_sat']\n",
    "y_test_dist = Y_test['distance_fr_sat']\n",
    "\n",
    "# Define function to compute R2\n",
    "def scoreR2(predictor, X, true_y):\n",
    "    predictions = predictor.predict(X)\n",
    "    return r2_score(true_y, predictions)"
   ]
  },
  {
   "cell_type": "markdown",
   "metadata": {},
   "source": [
    "# Difference "
   ]
  },
  {
   "cell_type": "markdown",
   "metadata": {},
   "source": [
    "We first examine the difference between farmer-reported and satellite measured yield, $y_i = FRyield_i - SATELLITEyield_i$. We try several different models. "
   ]
  },
  {
   "cell_type": "markdown",
   "metadata": {},
   "source": [
    "## Elastic net"
   ]
  },
  {
   "cell_type": "code",
   "execution_count": 3,
   "metadata": {},
   "outputs": [
    {
     "name": "stdout",
     "output_type": "stream",
     "text": [
      "Optimal alpha: 0.75646214\n",
      "Optimal l1_ratio: 1.000\n",
      "Number of iterations 12\n",
      "Training R^2: 0.17251302885750175\n",
      "Out of sample R^2: 0.12106507213120332\n"
     ]
    }
   ],
   "source": [
    "e_net_cv_diff = ElasticNetCV(l1_ratio=[.1, .5, .7, .9, .95, .99, .995, 1], eps=0.001, n_alphas=100, fit_intercept=True, \n",
    "                        normalize=True, precompute='auto', max_iter=10000, tol=0.0001, cv=5, \n",
    "                        copy_X=True, verbose=0, n_jobs=2, selection='cyclic')\n",
    "\n",
    "e_net_cv_diff.fit(X_train, y_train_diff)\n",
    "\n",
    "print('Optimal alpha: %.8f'%e_net_cv_diff.alpha_)\n",
    "print('Optimal l1_ratio: %.3f'%e_net_cv_diff.l1_ratio_)\n",
    "print('Number of iterations %d'%e_net_cv_diff.n_iter_)\n",
    "\n",
    "e_net_diff = ElasticNet(l1_ratio=e_net_cv_diff.l1_ratio_, alpha = e_net_cv_diff.alpha_, \n",
    "                        max_iter=e_net_cv_diff.n_iter_, fit_intercept=True, normalize = True)\n",
    "e_net_diff.fit(X_train, y_train_diff)\n",
    "\n",
    "print(\"Training R^2: {}\".format(scoreR2(e_net_diff, X_train, y_train_diff)))\n",
    "print(\"Out of sample R^2: {}\".format(scoreR2(e_net_diff, X_test, y_test_diff)))"
   ]
  },
  {
   "cell_type": "markdown",
   "metadata": {},
   "source": [
    "## Random forest "
   ]
  },
  {
   "cell_type": "code",
   "execution_count": 4,
   "metadata": {},
   "outputs": [
    {
     "name": "stdout",
     "output_type": "stream",
     "text": [
      "{'bootstrap': True, 'max_depth': 5, 'max_features': 'sqrt', 'min_samples_leaf': 5, 'min_samples_split': 6, 'n_estimators': 400}\n",
      "Training R^2: 0.2813694468809016\n",
      "Out of sample R^2: 0.1128148856748129\n"
     ]
    }
   ],
   "source": [
    "#GridSearchCV\n",
    "n_estimators = [300, 400, 500]  # Trees\n",
    "max_features = ['sqrt']  # Max feature to consider at each split \n",
    "max_depth = [3, 4, 5]  \n",
    "min_samples_split = [5, 6, 7]\n",
    "min_samples_leaf = [3, 4, 5]\n",
    "bootstrap = [True]\n",
    "\n",
    "# Create the grid \n",
    "grid = {'n_estimators': n_estimators, 'max_features': max_features, 'max_depth': max_depth,\n",
    "        'min_samples_split': min_samples_split, 'min_samples_leaf': min_samples_leaf, 'bootstrap': bootstrap}\n",
    "rf_diff_2 = GridSearchCV(estimator = RandomForestRegressor(), param_grid = grid, cv=5, n_jobs = 6, scoring='r2')\n",
    "rf_diff_2.fit(X_train, y_train_diff)\n",
    "\n",
    "print(rf_diff_2.best_params_)\n",
    "rf_diff_final = rf_diff_2.best_estimator_\n",
    "print(\"Training R^2: {}\".format(scoreR2(rf_diff_final, X_train, y_train_diff)))\n",
    "print(\"Out of sample R^2: {}\".format(scoreR2(rf_diff_final, X_test, y_test_diff)))"
   ]
  },
  {
   "cell_type": "markdown",
   "metadata": {},
   "source": [
    "## Neural net"
   ]
  },
  {
   "cell_type": "code",
   "execution_count": 5,
   "metadata": {
    "scrolled": false
   },
   "outputs": [
    {
     "name": "stdout",
     "output_type": "stream",
     "text": [
      "Training R^2: 0.21312739516083623\n",
      "Out of sample R^2: 0.12041658073505579\n"
     ]
    }
   ],
   "source": [
    "scaler = StandardScaler().fit(X_train)\n",
    "X_train_sc = scaler.transform(X_train)\n",
    "X_test_sc = scaler.transform(X_test)\n",
    "\n",
    "nn_diff = MLPRegressor(\n",
    "    hidden_layer_sizes=(150,150,150,), activation='relu',\n",
    "    early_stopping=True, learning_rate='adaptive', \n",
    "    max_iter=5000, learning_rate_init=0.01, random_state=7)\n",
    "\n",
    "nn_diff.fit(X_train_sc, y_train_diff)\n",
    "print(\"Training R^2: {}\".format(scoreR2(nn_diff, X_train_sc, y_train_diff)))\n",
    "print(\"Out of sample R^2: {}\".format(scoreR2(nn_diff, X_test_sc, y_test_diff)))"
   ]
  },
  {
   "cell_type": "markdown",
   "metadata": {},
   "source": [
    "# Distance "
   ]
  },
  {
   "cell_type": "markdown",
   "metadata": {},
   "source": [
    "We next examine whether we can predict the distance between farmer-reported and satellite yield estimates. The distance is defined as $y_i = |FRyield_i - SATELLITEyield_i|$"
   ]
  },
  {
   "cell_type": "markdown",
   "metadata": {},
   "source": [
    "## Elastic net "
   ]
  },
  {
   "cell_type": "code",
   "execution_count": 6,
   "metadata": {},
   "outputs": [
    {
     "name": "stdout",
     "output_type": "stream",
     "text": [
      "Optimal alpha: 0.65665218\n",
      "Optimal l1_ratio: 1.000\n",
      "Number of iterations 6\n",
      "Training R^2: 0.044068956667543624\n",
      "Out of sample R^2: 0.022876674132931596\n"
     ]
    }
   ],
   "source": [
    "e_net_cv_dist = ElasticNetCV(l1_ratio=[.1, .5, .7, .9, .95, .99, .995, 1], eps=0.001, n_alphas=100, fit_intercept=True, \n",
    "                        normalize=True, precompute='auto', max_iter=10000, tol=0.0001, cv=5, \n",
    "                        copy_X=True, verbose=0, n_jobs=2, selection='cyclic')\n",
    "\n",
    "e_net_cv_dist.fit(X_train, y_train_dist)\n",
    "\n",
    "print('Optimal alpha: %.8f'%e_net_cv_dist.alpha_)\n",
    "print('Optimal l1_ratio: %.3f'%e_net_cv_dist.l1_ratio_)\n",
    "print('Number of iterations %d'%e_net_cv_dist.n_iter_)\n",
    "\n",
    "e_net_dist = ElasticNet(l1_ratio=e_net_cv_dist.l1_ratio_, alpha = e_net_cv_dist.alpha_, \n",
    "                        max_iter=e_net_cv_dist.n_iter_, fit_intercept=True, normalize = True)\n",
    "e_net_dist.fit(X_train, y_train_dist)\n",
    "\n",
    "print(\"Training R^2: {}\".format(scoreR2(e_net_dist, X_train, y_train_dist)))\n",
    "print(\"Out of sample R^2: {}\".format(scoreR2(e_net_dist, X_test, y_test_dist)))"
   ]
  },
  {
   "cell_type": "markdown",
   "metadata": {},
   "source": [
    "## Random forest"
   ]
  },
  {
   "cell_type": "code",
   "execution_count": 7,
   "metadata": {},
   "outputs": [
    {
     "name": "stdout",
     "output_type": "stream",
     "text": [
      "{'bootstrap': True, 'max_depth': 4, 'max_features': 'sqrt', 'min_samples_leaf': 4, 'min_samples_split': 7, 'n_estimators': 500}\n",
      "Training R^2: 0.13147059514096893\n",
      "Out of sample R^2: 0.01470606589580603\n"
     ]
    }
   ],
   "source": [
    "#GridSearchCV\n",
    "n_estimators = [300, 400, 500]  # Trees\n",
    "max_features = ['sqrt']  # Max feature to consider at each split \n",
    "max_depth = [3, 4, 5]  \n",
    "min_samples_split = [5, 6, 7]\n",
    "min_samples_leaf = [3, 4, 5]\n",
    "bootstrap = [True]\n",
    "\n",
    "# Create the grid \n",
    "grid = {'n_estimators': n_estimators, 'max_features': max_features, 'max_depth': max_depth,\n",
    "        'min_samples_split': min_samples_split, 'min_samples_leaf': min_samples_leaf, 'bootstrap': bootstrap}\n",
    "rf_dist = GridSearchCV(estimator = RandomForestRegressor(), param_grid = grid, cv=5, n_jobs = 6, scoring='r2')\n",
    "rf_dist.fit(X_train, y_train_dist)\n",
    "\n",
    "print(rf_dist.best_params_)\n",
    "rf_dist_final = rf_dist.best_estimator_\n",
    "print(\"Training R^2: {}\".format(scoreR2(rf_dist_final, X_train, y_train_dist)))\n",
    "print(\"Out of sample R^2: {}\".format(scoreR2(rf_dist_final, X_test, y_test_dist)))"
   ]
  },
  {
   "cell_type": "markdown",
   "metadata": {},
   "source": [
    "## Neural net"
   ]
  },
  {
   "cell_type": "code",
   "execution_count": 8,
   "metadata": {},
   "outputs": [
    {
     "name": "stdout",
     "output_type": "stream",
     "text": [
      "Training R^2: 0.14485600203442162\n",
      "Out of sample R^2: -0.03160799269337744\n"
     ]
    }
   ],
   "source": [
    "nn_dist = MLPRegressor(\n",
    "    hidden_layer_sizes=(150,150,150,), activation='relu',\n",
    "    early_stopping=True, learning_rate='adaptive', \n",
    "    max_iter=5000, learning_rate_init=0.01, random_state=7)\n",
    "\n",
    "nn_dist.fit(X_train_sc, y_train_dist)\n",
    "print(\"Training R^2: {}\".format(scoreR2(nn_dist, X_train_sc, y_train_dist)))\n",
    "print(\"Out of sample R^2: {}\".format(scoreR2(nn_dist, X_test_sc, y_test_dist)))"
   ]
  },
  {
   "cell_type": "markdown",
   "metadata": {},
   "source": [
    "# Discussion"
   ]
  },
  {
   "cell_type": "markdown",
   "metadata": {},
   "source": [
    "We are able to explain about 12% of the difference between farmer-reported and satellite-measured yields. We cannot predict the distance between the measures. Hence, we can gain some understanding of factors that may bias one of the measures, but the observables do not seem capable of predicting which farmer-reported data sources are less accurate. We next examine which features are most important in predicting the difference. "
   ]
  },
  {
   "cell_type": "code",
   "execution_count": 9,
   "metadata": {},
   "outputs": [
    {
     "data": {
      "text/plain": [
       "<matplotlib.axes._subplots.AxesSubplot at 0x7fb572313470>"
      ]
     },
     "execution_count": 9,
     "metadata": {},
     "output_type": "execute_result"
    },
    {
     "data": {
      "image/png": "[encoded data removed]",
      "text/plain": [
       "<Figure size 1296x432 with 1 Axes>"
      ]
     },
     "metadata": {
      "needs_background": "light"
     },
     "output_type": "display_data"
    }
   ],
   "source": [
    "feature_importance = pd.Series(index = X_train.columns, data = np.abs(e_net_diff.coef_))\n",
    "feature_importance.sort_values().tail(10).plot(kind = 'bar', figsize = (18,6))"
   ]
  }
 ],
 "metadata": {
  "kernelspec": {
   "display_name": "Python 3",
   "language": "python",
   "name": "python3"
  },
  "language_info": {
   "codemirror_mode": {
    "name": "ipython",
    "version": 3
   },
   "file_extension": ".py",
   "mimetype": "text/x-python",
   "name": "python",
   "nbconvert_exporter": "python",
   "pygments_lexer": "ipython3",
   "version": "3.6.10"
  }
 },
 "nbformat": 4,
 "nbformat_minor": 4
}
