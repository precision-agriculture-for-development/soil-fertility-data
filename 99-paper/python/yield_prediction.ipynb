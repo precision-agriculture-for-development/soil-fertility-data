{
 "cells": [
  {
   "cell_type": "markdown",
   "metadata": {},
   "source": [
    "# Description"
   ]
  },
  {
   "cell_type": "markdown",
   "metadata": {},
   "source": [
    "This notebook examines whether we can predict yields using fertilizer information, rainfall data, and characteristics of farmers. The aim is to predict 2018 treatment productivity based on the amount of fertilizer applied to determing whether we would expect to see a yield increase given the level of rainfall and fertilizer applied if the treatment did not otherwise effect farming practices. "
   ]
  },
  {
   "cell_type": "markdown",
   "metadata": {},
   "source": [
    "# reNDVI"
   ]
  },
  {
   "cell_type": "markdown",
   "metadata": {},
   "source": [
    "First try to predict raw reNDVI values in 2017, which may be more consistent across years since it doesn't depend on farmer recall. We will store results in the same dataframe for all outcome measures, and then save them as a CSV. A lot of code is redundant because it jsut gets copied and pasted from one measure to the next. "
   ]
  },
  {
   "cell_type": "markdown",
   "metadata": {},
   "source": [
    "## Data preparation and imports"
   ]
  },
  {
   "cell_type": "code",
   "execution_count": 1,
   "metadata": {},
   "outputs": [],
   "source": [
    "import numpy as np\n",
    "import pandas as pd\n",
    "from sklearn.impute import SimpleImputer\n",
    "from sklearn.model_selection import train_test_split\n",
    "from sklearn.linear_model import ElasticNetCV, ElasticNet\n",
    "from sklearn.ensemble import RandomForestRegressor\n",
    "from sklearn.metrics import r2_score\n",
    "from sklearn.model_selection import GridSearchCV\n",
    "from sklearn.neural_network import MLPRegressor\n",
    "from sklearn.preprocessing import StandardScaler\n",
    "from sklearn.ensemble import BaggingRegressor\n",
    "import matplotlib.pyplot as plt\n",
    "import matplotlib.colors as colors\n",
    "import matplotlib.cm as cmx\n",
    "import pandas as pd \n",
    "from rpy2 import robjects\n",
    "from rpy2.robjects.packages import importr\n",
    "from rpy2.robjects import pandas2ri\n",
    "from rpy2.ipython.ggplot import image_png\n",
    "\n",
    "base = importr('base')\n",
    "stats = importr('stats')\n",
    "jtools = importr('jtools')\n",
    "\n",
    "pandas2ri.activate()\n",
    "pandas2ri.default_timezone = 'GMT'  # To avoid warning "
   ]
  },
  {
   "cell_type": "code",
   "execution_count": 2,
   "metadata": {},
   "outputs": [],
   "source": [
    "raw_df = pd.read_csv('../data/nosync/yield_prediction.csv')\n",
    "raw_df.set_index('id', inplace=True)\n",
    "\n",
    "# Create dataframe to store predictions \n",
    "results = pd.DataFrame(index=raw_df.index)\n",
    "results['uid'] = results.index.str[:-4]\n",
    "results['year'] = pd.to_numeric(results.index.str[-4:])\n",
    "results['treatment'] = raw_df['treatment']\n",
    "results.loc[results['year'] == 2017, 'yield_hectare_2017'] = raw_df['yield_hectare_']\n",
    "results['yield_hectare_2017'] = results.groupby(['uid'])['yield_hectare_2017'].ffill()\n",
    "results.loc[results['year'] == 2017, 'sat_yield_2017'] = raw_df['satellite_yield_']\n",
    "results['sat_yield_2017'] = results.groupby(['uid'])['sat_yield_2017'].ffill()\n",
    "results.loc[results['year'] == 2017, 'max_re705_2016'] = raw_df['lag_re705_']\n",
    "results['max_re705_2016'] = results.groupby(['uid'])['max_re705_2016'].ffill()\n",
    "results.loc[results['year'] == 2018, 'max_re705_2017'] = raw_df['lag_re705_']\n",
    "results['max_re705_2017'] = results.groupby(['uid'])['max_re705_2017'].bfill()\n",
    "\n",
    "raw_df.drop(columns = ['yield_hectare_', 'satellite_yield_'], inplace=True)  # Just look at Red-edge NDVI values for now\n",
    "\n",
    "raw_df.dropna(subset=['max_re705_'], inplace=True)\n",
    "\n",
    "# Imput missing DVs to the median \n",
    "fill_NaN = SimpleImputer(strategy='median')\n",
    "df = pd.DataFrame(fill_NaN.fit_transform(raw_df))\n",
    "df.columns = raw_df.columns\n",
    "df.index = raw_df.index\n",
    "\n",
    "# Copy dataframe, then remove 2018 treatment \n",
    "full_df = df.copy(deep=True)\n",
    "df.drop(df.loc[raw_df['treatment']==1].index, inplace=True) \n",
    "df.drop(columns=['treatment'], inplace=True)\n",
    "full_df.drop(columns=['treatment'], inplace=True)\n",
    "\n",
    "# Separate IVs and DVs\n",
    "y = df[['max_re705_']]\n",
    "X = df.drop(columns=['max_re705_'])\n",
    "full_y = full_df[['max_re705_']]\n",
    "full_X = full_df.drop(columns=['max_re705_'])\n",
    "\n",
    "# Split data into training and testing samples \n",
    "X_train, X_test, y_train, y_test = train_test_split(X, y, test_size=0.2, random_state=1)\n",
    "y_train = y_train.values.ravel()\n",
    "y_test = y_test.values.ravel()\n",
    "\n",
    "# Define function to compute R2\n",
    "def scoreR2(predictor, X, true_y):\n",
    "    predictions = predictor.predict(X)\n",
    "    return r2_score(true_y, predictions)\n"
   ]
  },
  {
   "cell_type": "code",
   "execution_count": 3,
   "metadata": {},
   "outputs": [],
   "source": [
    "# Define a function to plot out of sample predictions vs true values colored by year \n",
    "def scatter_out_of_sample(model):\n",
    "    validate_year_2018 = X_test[['year_2018']].reset_index().drop(columns=['id'])\n",
    "    predictions = model.predict(X_test)\n",
    "    predictions = pd.DataFrame(predictions)\n",
    "    predictions.rename(columns={0: 'prediction'}, inplace=True)\n",
    "    predictions = predictions.join(pd.DataFrame(y_test).rename(columns={0: 'max_re705_'}))\n",
    "    predictions = predictions.join(validate_year_2018)\n",
    "\n",
    "    year_2018 = [0, 1]\n",
    "    z = [1, 2]\n",
    "    hot = plt.get_cmap('hot')\n",
    "    cNorm = colors.Normalize(vmin=0, vmax=2)\n",
    "    scalarMap = cmx.ScalarMappable(norm=cNorm, cmap=hot)\n",
    "\n",
    "    x = predictions['prediction']\n",
    "    y = predictions['max_re705_']\n",
    "    \n",
    "    fig, ax = plt.subplots()\n",
    "\n",
    "    for i in [0, 1]:\n",
    "        label = 2017 + i\n",
    "        indx = predictions['year_2018'] == i\n",
    "        plt.scatter(x[indx], y[indx], s=15, color=scalarMap.to_rgba(i), label=label)\n",
    "    \n",
    "    _x = np.linspace(*ax.get_xlim())\n",
    "    ax.plot(_x, _x)\n",
    "\n",
    "    plt.title('Predicted vs actual productivity, N = {}, R^2 = {}'.format(len(y_test), '%.2f'%scoreR2(model, X_test, y_test)))\n",
    "    plt.xlabel(\"Out of sample prediction\")\n",
    "    plt.ylabel(\"max_re705\")\n",
    "    plt.legend(loc='upper left')\n",
    "    plt.show()"
   ]
  },
  {
   "cell_type": "markdown",
   "metadata": {},
   "source": [
    "## Elastic net"
   ]
  },
  {
   "cell_type": "code",
   "execution_count": 4,
   "metadata": {},
   "outputs": [
    {
     "name": "stdout",
     "output_type": "stream",
     "text": [
      "Optimal alpha: 0.00031814\n",
      "Optimal l1_ratio: 1.000\n",
      "Number of iterations 10\n",
      "Training R^2: 0.27625275210910116\n",
      "Out of sample R^2: 0.25904678891224\n"
     ]
    }
   ],
   "source": [
    "e_net_cv = ElasticNetCV(l1_ratio=[.1, .5, .7, .9, .95, .99, .995, 1], eps=0.001, n_alphas=100, fit_intercept=True, \n",
    "                        normalize=True, precompute='auto', max_iter=10000, tol=0.0001, cv=5, \n",
    "                        copy_X=True, verbose=0, n_jobs=2, selection='cyclic')\n",
    "\n",
    "e_net_cv.fit(X_train, y_train)\n",
    "\n",
    "print('Optimal alpha: %.8f'%e_net_cv.alpha_)\n",
    "print('Optimal l1_ratio: %.3f'%e_net_cv.l1_ratio_)\n",
    "print('Number of iterations %d'%e_net_cv.n_iter_)\n",
    "\n",
    "e_net = ElasticNet(l1_ratio=e_net_cv.l1_ratio_, alpha = e_net_cv.alpha_, \n",
    "                        max_iter=e_net_cv.n_iter_, fit_intercept=True, normalize = True)\n",
    "e_net.fit(X_train, y_train)\n",
    "\n",
    "print(\"Training R^2: {}\".format(scoreR2(e_net, X_train, y_train)))\n",
    "print(\"Out of sample R^2: {}\".format(scoreR2(e_net, X_test, y_test)))"
   ]
  },
  {
   "cell_type": "markdown",
   "metadata": {},
   "source": [
    "### Feature importance"
   ]
  },
  {
   "cell_type": "code",
   "execution_count": 5,
   "metadata": {},
   "outputs": [
    {
     "data": {
      "text/plain": [
       "<matplotlib.axes._subplots.AxesSubplot at 0x7f9dc842c160>"
      ]
     },
     "execution_count": 5,
     "metadata": {},
     "output_type": "execute_result"
    },
    {
     "data": {
      "image/png": "[encoded data removed]",
      "text/plain": [
       "<Figure size 1296x432 with 1 Axes>"
      ]
     },
     "metadata": {
      "needs_background": "light"
     },
     "output_type": "display_data"
    }
   ],
   "source": [
    "feature_importance = pd.Series(index = X_train.columns, data = np.abs(e_net.coef_))\n",
    "feature_importance.sort_values().tail(10).plot(kind = 'bar', figsize = (18,6))"
   ]
  },
  {
   "cell_type": "markdown",
   "metadata": {},
   "source": [
    "### Scatter plot: predicted vs true value out of sample "
   ]
  },
  {
   "cell_type": "code",
   "execution_count": 6,
   "metadata": {
    "scrolled": false
   },
   "outputs": [
    {
     "data": {
      "image/png": "[encoded data removed]",
      "text/plain": [
       "<Figure size 432x288 with 1 Axes>"
      ]
     },
     "metadata": {
      "needs_background": "light"
     },
     "output_type": "display_data"
    }
   ],
   "source": [
    "scatter_out_of_sample(e_net)"
   ]
  },
  {
   "cell_type": "markdown",
   "metadata": {},
   "source": [
    "### Save predictions "
   ]
  },
  {
   "cell_type": "code",
   "execution_count": 7,
   "metadata": {
    "scrolled": false
   },
   "outputs": [
    {
     "name": "stdout",
     "output_type": "stream",
     "text": [
      "                         uid  year  treatment  yield_hectare_2017  \\\n",
      "id                                                                  \n",
      "B01V01F00012017  B01V01F0001  2017          0           797.59241   \n",
      "B01V01F00012018  B01V01F0001  2018          0           797.59241   \n",
      "B01V01F00022017  B01V01F0002  2017          0          2396.62520   \n",
      "B01V01F00022018  B01V01F0002  2018          0          2396.62520   \n",
      "B01V01F00042017  B01V01F0004  2017          1          1758.19520   \n",
      "\n",
      "                 sat_yield_2017  max_re705_2016  max_re705_2017  e_net_re705  \n",
      "id                                                                            \n",
      "B01V01F00012017       1566.7423        0.227357        0.291366     0.370383  \n",
      "B01V01F00012018       1566.7423        0.227357        0.291366     0.336818  \n",
      "B01V01F00022017       2100.2913        0.422249        0.448436     0.399262  \n",
      "B01V01F00022018       2100.2913        0.422249        0.448436     0.359112  \n",
      "B01V01F00042017       2053.3210        0.378115        0.434609     0.395725  \n"
     ]
    }
   ],
   "source": [
    "full_sample_predictions = e_net.predict(full_X)\n",
    "predictions_df = pd.DataFrame(index=full_X.index)\n",
    "predictions_df['e_net_re705'] = full_sample_predictions\n",
    "results = results.join(predictions_df)\n",
    "print(results.head())"
   ]
  },
  {
   "cell_type": "markdown",
   "metadata": {},
   "source": [
    "## Random forest"
   ]
  },
  {
   "cell_type": "code",
   "execution_count": 8,
   "metadata": {},
   "outputs": [
    {
     "name": "stdout",
     "output_type": "stream",
     "text": [
      "{'bootstrap': True, 'max_depth': 15, 'max_features': 'sqrt', 'min_samples_leaf': 2, 'min_samples_split': 2, 'n_estimators': 1000}\n",
      "Training R^2: 0.8585398928589777\n",
      "Out of sample R^2: 0.4392867573784499\n"
     ]
    }
   ],
   "source": [
    "#GridSearchCV\n",
    "n_estimators = [500, 1000, 1500]  # Trees\n",
    "max_features = ['sqrt']  # Max feature to consider at each split \n",
    "max_depth = [10, 15, 20]  \n",
    "min_samples_split = [2, 3, 4]\n",
    "min_samples_leaf = [2, 3, 4]\n",
    "bootstrap = [True]\n",
    "\n",
    "# Create the grid \n",
    "grid = {'n_estimators': n_estimators, 'max_features': max_features, 'max_depth': max_depth,\n",
    "        'min_samples_split': min_samples_split, 'min_samples_leaf': min_samples_leaf, 'bootstrap': bootstrap}\n",
    "rf_cv = GridSearchCV(estimator = RandomForestRegressor(), param_grid = grid, cv=5, n_jobs = 6, scoring='r2')\n",
    "rf_cv.fit(X_train, y_train)\n",
    "\n",
    "print(rf_cv.best_params_)\n",
    "rf = rf_cv.best_estimator_\n",
    "print(\"Training R^2: {}\".format(scoreR2(rf, X_train, y_train)))\n",
    "print(\"Out of sample R^2: {}\".format(scoreR2(rf, X_test, y_test)))"
   ]
  },
  {
   "cell_type": "markdown",
   "metadata": {},
   "source": [
    "### Feature importances "
   ]
  },
  {
   "cell_type": "code",
   "execution_count": 9,
   "metadata": {},
   "outputs": [
    {
     "name": "stdout",
     "output_type": "stream",
     "text": [
      "                      importance\n",
      "lag_re705_              0.096444\n",
      "rain_september_         0.088943\n",
      "urea_                   0.079292\n",
      "rain_july_              0.069757\n",
      "rain_june_              0.064831\n",
      "rain_october_           0.063207\n",
      "potash_value            0.060049\n",
      "irrigation_             0.053874\n",
      "rain_august_            0.048631\n",
      "ec_value                0.040900\n",
      "nitrogen_value          0.039747\n",
      "phosphorous_value       0.035981\n",
      "ph_value                0.035388\n",
      "sulphur_value           0.035040\n",
      "sow_time                0.034601\n",
      "dap_                    0.034483\n",
      "soil_test_zinc_value    0.033035\n",
      "iron_value              0.032468\n",
      "knowledge_              0.017352\n",
      "year_2018               0.008909\n"
     ]
    }
   ],
   "source": [
    "feature_importances = pd.DataFrame(rf.feature_importances_, index=X_train.columns, \n",
    "                                   columns=['importance']).sort_values('importance',ascending=False)\n",
    "print(feature_importances.head(20))"
   ]
  },
  {
   "cell_type": "markdown",
   "metadata": {},
   "source": [
    "### Scatter plot: predicted vs true value out of sample "
   ]
  },
  {
   "cell_type": "code",
   "execution_count": 10,
   "metadata": {},
   "outputs": [
    {
     "data": {
      "image/png": "[encoded data removed]",
      "text/plain": [
       "<Figure size 432x288 with 1 Axes>"
      ]
     },
     "metadata": {
      "needs_background": "light"
     },
     "output_type": "display_data"
    }
   ],
   "source": [
    "scatter_out_of_sample(rf)"
   ]
  },
  {
   "cell_type": "markdown",
   "metadata": {},
   "source": [
    "### Save predictions "
   ]
  },
  {
   "cell_type": "code",
   "execution_count": 11,
   "metadata": {},
   "outputs": [
    {
     "name": "stdout",
     "output_type": "stream",
     "text": [
      "                         uid  year  treatment  yield_hectare_2017  \\\n",
      "id                                                                  \n",
      "B01V01F00012017  B01V01F0001  2017          0           797.59241   \n",
      "B01V01F00012018  B01V01F0001  2018          0           797.59241   \n",
      "B01V01F00022017  B01V01F0002  2017          0          2396.62520   \n",
      "B01V01F00022018  B01V01F0002  2018          0          2396.62520   \n",
      "B01V01F00042017  B01V01F0004  2017          1          1758.19520   \n",
      "\n",
      "                 sat_yield_2017  max_re705_2016  max_re705_2017  e_net_re705  \\\n",
      "id                                                                             \n",
      "B01V01F00012017       1566.7423        0.227357        0.291366     0.370383   \n",
      "B01V01F00012018       1566.7423        0.227357        0.291366     0.336818   \n",
      "B01V01F00022017       2100.2913        0.422249        0.448436     0.399262   \n",
      "B01V01F00022018       2100.2913        0.422249        0.448436     0.359112   \n",
      "B01V01F00042017       2053.3210        0.378115        0.434609     0.395725   \n",
      "\n",
      "                 rf_re705  \n",
      "id                         \n",
      "B01V01F00012017  0.342153  \n",
      "B01V01F00012018  0.213373  \n",
      "B01V01F00022017  0.419301  \n",
      "B01V01F00022018  0.340858  \n",
      "B01V01F00042017  0.392120  \n"
     ]
    }
   ],
   "source": [
    "full_sample_predictions = rf.predict(full_X)\n",
    "predictions_df = pd.DataFrame(index=full_X.index)\n",
    "predictions_df['rf_re705'] = full_sample_predictions\n",
    "results = results.join(predictions_df)\n",
    "print(results.head())"
   ]
  },
  {
   "cell_type": "markdown",
   "metadata": {},
   "source": [
    "## Neural net"
   ]
  },
  {
   "cell_type": "code",
   "execution_count": 12,
   "metadata": {},
   "outputs": [
    {
     "name": "stdout",
     "output_type": "stream",
     "text": [
      "Training R^2: 0.7204044122468615\n",
      "Out of sample R^2: 0.16745646961142924\n"
     ]
    }
   ],
   "source": [
    "scaler = StandardScaler().fit(X_train)\n",
    "X_train_sc = scaler.transform(X_train)\n",
    "X_test_sc = scaler.transform(X_test)\n",
    "\n",
    "nn = MLPRegressor(\n",
    "    hidden_layer_sizes=(250,250,250,250,), activation='relu',\n",
    "    early_stopping=True, learning_rate='adaptive', \n",
    "    max_iter=5000, learning_rate_init=0.001, random_state=7)\n",
    "\n",
    "nn.fit(X_train_sc, y_train)\n",
    "print(\"Training R^2: {}\".format(scoreR2(nn, X_train_sc, y_train)))\n",
    "print(\"Out of sample R^2: {}\".format(scoreR2(nn, X_test_sc, y_test)))"
   ]
  },
  {
   "cell_type": "markdown",
   "metadata": {},
   "source": [
    "### Scatter plot: predicted vs true value out of sample"
   ]
  },
  {
   "cell_type": "code",
   "execution_count": 13,
   "metadata": {},
   "outputs": [
    {
     "data": {
      "image/png": "[encoded data removed]",
      "text/plain": [
       "<Figure size 432x288 with 1 Axes>"
      ]
     },
     "metadata": {
      "needs_background": "light"
     },
     "output_type": "display_data"
    }
   ],
   "source": [
    "validate_year_2018 = X_test[['year_2018']].reset_index().drop(columns=['id'])\n",
    "predictions = nn.predict(X_test_sc)\n",
    "predictions = pd.DataFrame(predictions)\n",
    "predictions.rename(columns={0: 'prediction'}, inplace=True)\n",
    "predictions = predictions.join(pd.DataFrame(y_test).rename(columns={0: 'max_re705_'}))\n",
    "predictions = predictions.join(validate_year_2018)\n",
    "\n",
    "year_2018 = [0, 1]\n",
    "z = [1, 2]\n",
    "hot = plt.get_cmap('hot')\n",
    "cNorm = colors.Normalize(vmin=0, vmax=2)\n",
    "scalarMap = cmx.ScalarMappable(norm=cNorm, cmap=hot)\n",
    "\n",
    "x = predictions['prediction']\n",
    "y = predictions['max_re705_']\n",
    "\n",
    "fig, ax = plt.subplots()\n",
    "\n",
    "for i in [0, 1]:\n",
    "    label = 2017 + i\n",
    "    indx = predictions['year_2018'] == i\n",
    "    plt.scatter(x[indx], y[indx], s=15, color=scalarMap.to_rgba(i), label=label)\n",
    "\n",
    "_x = np.linspace(*ax.get_xlim())\n",
    "ax.plot(_x, _x)\n",
    "\n",
    "plt.title('Predicted vs actual productivity, N = {}, R^2 = {}'.format(len(y_test), '%.2f'%scoreR2(nn, X_test_sc, y_test)))\n",
    "plt.xlabel(\"Out of sample prediction\")\n",
    "plt.ylabel(\"max_re705\")\n",
    "plt.legend(loc='upper left')\n",
    "plt.show()"
   ]
  },
  {
   "cell_type": "markdown",
   "metadata": {},
   "source": [
    "### Save predictions"
   ]
  },
  {
   "cell_type": "code",
   "execution_count": 14,
   "metadata": {
    "scrolled": false
   },
   "outputs": [
    {
     "name": "stdout",
     "output_type": "stream",
     "text": [
      "                         uid  year  treatment  yield_hectare_2017  \\\n",
      "id                                                                  \n",
      "B01V01F00012017  B01V01F0001  2017          0           797.59241   \n",
      "B01V01F00012018  B01V01F0001  2018          0           797.59241   \n",
      "B01V01F00022017  B01V01F0002  2017          0          2396.62520   \n",
      "B01V01F00022018  B01V01F0002  2018          0          2396.62520   \n",
      "B01V01F00042017  B01V01F0004  2017          1          1758.19520   \n",
      "\n",
      "                 sat_yield_2017  max_re705_2016  max_re705_2017  e_net_re705  \\\n",
      "id                                                                             \n",
      "B01V01F00012017       1566.7423        0.227357        0.291366     0.370383   \n",
      "B01V01F00012018       1566.7423        0.227357        0.291366     0.336818   \n",
      "B01V01F00022017       2100.2913        0.422249        0.448436     0.399262   \n",
      "B01V01F00022018       2100.2913        0.422249        0.448436     0.359112   \n",
      "B01V01F00042017       2053.3210        0.378115        0.434609     0.395725   \n",
      "\n",
      "                 rf_re705  nn_re705  \n",
      "id                                   \n",
      "B01V01F00012017  0.342153  0.446070  \n",
      "B01V01F00012018  0.213373  0.306741  \n",
      "B01V01F00022017  0.419301  0.402174  \n",
      "B01V01F00022018  0.340858  0.332004  \n",
      "B01V01F00042017  0.392120  0.462966  \n"
     ]
    }
   ],
   "source": [
    "full_X_sc = scaler.transform(full_X)\n",
    "full_sample_predictions = nn.predict(full_X_sc)\n",
    "predictions_df = pd.DataFrame(index=full_X.index)\n",
    "predictions_df['nn_re705'] = full_sample_predictions\n",
    "results = results.join(predictions_df)\n",
    "print(results.head())"
   ]
  },
  {
   "cell_type": "markdown",
   "metadata": {},
   "source": [
    "# Satellite measured yields"
   ]
  },
  {
   "cell_type": "markdown",
   "metadata": {},
   "source": [
    "Second, examine satellite yield measurements. These are just affine transformations of the reNDVI values examined above. However, the transformations are separately estimated from farmer-reported yields in 2017 and 2018, so they may be less consistent across years. "
   ]
  },
  {
   "cell_type": "markdown",
   "metadata": {},
   "source": [
    "## Data preparation and imports"
   ]
  },
  {
   "cell_type": "code",
   "execution_count": 15,
   "metadata": {},
   "outputs": [],
   "source": [
    "raw_df = pd.read_csv('../data/nosync/yield_prediction.csv')\n",
    "raw_df.set_index('id', inplace=True)\n",
    "\n",
    "raw_df.drop(columns = ['max_re705_', 'yield_hectare_'], inplace=True) \n",
    "\n",
    "raw_df.dropna(subset=['satellite_yield_'], inplace=True)\n",
    "\n",
    "# Imput missing DVs to the median \n",
    "fill_NaN = SimpleImputer(strategy='median')\n",
    "df = pd.DataFrame(fill_NaN.fit_transform(raw_df))\n",
    "df.columns = raw_df.columns\n",
    "df.index = raw_df.index\n",
    "\n",
    "# Copy dataframe, then remove 2018 treatment \n",
    "full_df = df.copy(deep=True)\n",
    "df.drop(df.loc[raw_df['treatment']==1].index, inplace=True) \n",
    "df.drop(columns=['treatment'], inplace=True)\n",
    "full_df.drop(columns=['treatment'], inplace=True)\n",
    "\n",
    "# Separate IVs and DVs\n",
    "y = df[['satellite_yield_']]\n",
    "X = df.drop(columns=['satellite_yield_'])\n",
    "full_y = full_df[['satellite_yield_']]\n",
    "full_X = full_df.drop(columns=['satellite_yield_'])\n",
    "\n",
    "# Split data into training and testing samples \n",
    "X_train, X_test, y_train, y_test = train_test_split(X, y, test_size=0.2, random_state=1)\n",
    "y_train = y_train.values.ravel()\n",
    "y_test = y_test.values.ravel()\n",
    "\n",
    "# Define function to compute R2\n",
    "def scoreR2(predictor, X, true_y):\n",
    "    predictions = predictor.predict(X)\n",
    "    return r2_score(true_y, predictions)\n"
   ]
  },
  {
   "cell_type": "code",
   "execution_count": 16,
   "metadata": {},
   "outputs": [],
   "source": [
    "# Define a function to plot out of sample predictions vs true values colored by year \n",
    "def scatter_out_of_sample(model):\n",
    "    validate_year_2018 = X_test[['year_2018']].reset_index().drop(columns=['id'])\n",
    "    predictions = model.predict(X_test)\n",
    "    predictions = pd.DataFrame(predictions)\n",
    "    predictions.rename(columns={0: 'prediction'}, inplace=True)\n",
    "    predictions = predictions.join(pd.DataFrame(y_test).rename(columns={0: 'satellite_yield_'}))\n",
    "    predictions = predictions.join(validate_year_2018)\n",
    "\n",
    "    year_2018 = [0, 1]\n",
    "    z = [1, 2]\n",
    "    hot = plt.get_cmap('hot')\n",
    "    cNorm = colors.Normalize(vmin=0, vmax=2)\n",
    "    scalarMap = cmx.ScalarMappable(norm=cNorm, cmap=hot)\n",
    "\n",
    "    x = predictions['prediction']\n",
    "    y = predictions['satellite_yield_']\n",
    "    \n",
    "    fig, ax = plt.subplots()\n",
    "\n",
    "    for i in [0, 1]:\n",
    "        label = 2017 + i\n",
    "        indx = predictions['year_2018'] == i\n",
    "        plt.scatter(x[indx], y[indx], s=15, color=scalarMap.to_rgba(i), label=label)\n",
    "    \n",
    "    _x = np.linspace(*ax.get_xlim())\n",
    "    ax.plot(_x, _x)\n",
    "\n",
    "    plt.title('Predicted vs actual productivity, N = {}, R^2 = {}'.format(len(y_test), '%.2f'%scoreR2(model, X_test, y_test)))\n",
    "    plt.xlabel(\"Out of sample prediction\")\n",
    "    plt.ylabel(\"satellite_yield_\")\n",
    "    plt.legend(loc='upper left')\n",
    "    plt.show()"
   ]
  },
  {
   "cell_type": "markdown",
   "metadata": {},
   "source": [
    "## Elastic net"
   ]
  },
  {
   "cell_type": "code",
   "execution_count": 17,
   "metadata": {},
   "outputs": [
    {
     "name": "stdout",
     "output_type": "stream",
     "text": [
      "Optimal alpha: 1.14446638\n",
      "Optimal l1_ratio: 1.000\n",
      "Number of iterations 29\n",
      "Training R^2: 0.6308120441632172\n",
      "Out of sample R^2: 0.6123473197403733\n"
     ]
    }
   ],
   "source": [
    "e_net_cv = ElasticNetCV(l1_ratio=[.1, .5, .7, .9, .95, .99, .995, 1], eps=0.001, n_alphas=100, fit_intercept=True, \n",
    "                        normalize=True, precompute='auto', max_iter=10000, tol=0.0001, cv=5, \n",
    "                        copy_X=True, verbose=0, n_jobs=2, selection='cyclic')\n",
    "\n",
    "e_net_cv.fit(X_train, y_train)\n",
    "\n",
    "print('Optimal alpha: %.8f'%e_net_cv.alpha_)\n",
    "print('Optimal l1_ratio: %.3f'%e_net_cv.l1_ratio_)\n",
    "print('Number of iterations %d'%e_net_cv.n_iter_)\n",
    "\n",
    "e_net = ElasticNet(l1_ratio=e_net_cv.l1_ratio_, alpha = e_net_cv.alpha_, \n",
    "                        max_iter=e_net_cv.n_iter_, fit_intercept=True, normalize = True)\n",
    "e_net.fit(X_train, y_train)\n",
    "\n",
    "print(\"Training R^2: {}\".format(scoreR2(e_net, X_train, y_train)))\n",
    "print(\"Out of sample R^2: {}\".format(scoreR2(e_net, X_test, y_test)))"
   ]
  },
  {
   "cell_type": "markdown",
   "metadata": {},
   "source": [
    "### Feature importance"
   ]
  },
  {
   "cell_type": "code",
   "execution_count": 18,
   "metadata": {},
   "outputs": [
    {
     "data": {
      "text/plain": [
       "<matplotlib.axes._subplots.AxesSubplot at 0x7f9dc80c2e48>"
      ]
     },
     "execution_count": 18,
     "metadata": {},
     "output_type": "execute_result"
    },
    {
     "data": {
      "image/png": "[encoded data removed]",
      "text/plain": [
       "<Figure size 1296x432 with 1 Axes>"
      ]
     },
     "metadata": {
      "needs_background": "light"
     },
     "output_type": "display_data"
    }
   ],
   "source": [
    "feature_importance = pd.Series(index = X_train.columns, data = np.abs(e_net.coef_))\n",
    "feature_importance.sort_values().tail(10).plot(kind = 'bar', figsize = (18,6))"
   ]
  },
  {
   "cell_type": "markdown",
   "metadata": {},
   "source": [
    "### Scatter plot: predicted vs true value out of sample "
   ]
  },
  {
   "cell_type": "code",
   "execution_count": 19,
   "metadata": {
    "scrolled": false
   },
   "outputs": [
    {
     "data": {
      "image/png": "[encoded data removed]",
      "text/plain": [
       "<Figure size 432x288 with 1 Axes>"
      ]
     },
     "metadata": {
      "needs_background": "light"
     },
     "output_type": "display_data"
    }
   ],
   "source": [
    "scatter_out_of_sample(e_net)"
   ]
  },
  {
   "cell_type": "markdown",
   "metadata": {},
   "source": [
    "### Save predictions "
   ]
  },
  {
   "cell_type": "code",
   "execution_count": 20,
   "metadata": {
    "scrolled": false
   },
   "outputs": [
    {
     "name": "stdout",
     "output_type": "stream",
     "text": [
      "                         uid  year  treatment  yield_hectare_2017  \\\n",
      "id                                                                  \n",
      "B01V01F00012017  B01V01F0001  2017          0           797.59241   \n",
      "B01V01F00012018  B01V01F0001  2018          0           797.59241   \n",
      "B01V01F00022017  B01V01F0002  2017          0          2396.62520   \n",
      "B01V01F00022018  B01V01F0002  2018          0          2396.62520   \n",
      "B01V01F00042017  B01V01F0004  2017          1          1758.19520   \n",
      "\n",
      "                 sat_yield_2017  max_re705_2016  max_re705_2017  e_net_re705  \\\n",
      "id                                                                             \n",
      "B01V01F00012017       1566.7423        0.227357        0.291366     0.370383   \n",
      "B01V01F00012018       1566.7423        0.227357        0.291366     0.336818   \n",
      "B01V01F00022017       2100.2913        0.422249        0.448436     0.399262   \n",
      "B01V01F00022018       2100.2913        0.422249        0.448436     0.359112   \n",
      "B01V01F00042017       2053.3210        0.378115        0.434609     0.395725   \n",
      "\n",
      "                 rf_re705  nn_re705  e_net_satellite_yield  \n",
      "id                                                          \n",
      "B01V01F00012017  0.342153  0.446070            1786.354899  \n",
      "B01V01F00012018  0.213373  0.306741            1099.313026  \n",
      "B01V01F00022017  0.419301  0.402174            1892.586154  \n",
      "B01V01F00022018  0.340858  0.332004            1181.815211  \n",
      "B01V01F00042017  0.392120  0.462966            1873.299400  \n"
     ]
    }
   ],
   "source": [
    "full_sample_predictions = e_net.predict(full_X)\n",
    "predictions_df = pd.DataFrame(index=full_X.index)\n",
    "predictions_df['e_net_satellite_yield'] = full_sample_predictions\n",
    "results = results.join(predictions_df)\n",
    "print(results.head())"
   ]
  },
  {
   "cell_type": "markdown",
   "metadata": {},
   "source": [
    "## Random forest"
   ]
  },
  {
   "cell_type": "code",
   "execution_count": 21,
   "metadata": {},
   "outputs": [
    {
     "name": "stdout",
     "output_type": "stream",
     "text": [
      "{'bootstrap': True, 'max_depth': 15, 'max_features': 'sqrt', 'min_samples_leaf': 3, 'min_samples_split': 3, 'n_estimators': 2000}\n",
      "Training R^2: 0.8960929877033237\n",
      "Out of sample R^2: 0.7033767462561515\n"
     ]
    }
   ],
   "source": [
    "#GridSearchCV\n",
    "n_estimators = [1000, 1500, 2000]  # Trees\n",
    "max_features = ['sqrt']  # Max feature to consider at each split \n",
    "max_depth = [10, 15, 20]  \n",
    "min_samples_split = [3, 4]\n",
    "min_samples_leaf = [3, 4]\n",
    "bootstrap = [True]\n",
    "\n",
    "# Create the grid \n",
    "grid = {'n_estimators': n_estimators, 'max_features': max_features, 'max_depth': max_depth,\n",
    "        'min_samples_split': min_samples_split, 'min_samples_leaf': min_samples_leaf, 'bootstrap': bootstrap}\n",
    "rf_cv = GridSearchCV(estimator = RandomForestRegressor(), param_grid = grid, cv=5, n_jobs = 6, scoring='r2')\n",
    "rf_cv.fit(X_train, y_train)\n",
    "\n",
    "print(rf_cv.best_params_)\n",
    "rf = rf_cv.best_estimator_\n",
    "print(\"Training R^2: {}\".format(scoreR2(rf, X_train, y_train)))\n",
    "print(\"Out of sample R^2: {}\".format(scoreR2(rf, X_test, y_test)))"
   ]
  },
  {
   "cell_type": "markdown",
   "metadata": {},
   "source": [
    "### Feature importances "
   ]
  },
  {
   "cell_type": "code",
   "execution_count": 22,
   "metadata": {},
   "outputs": [
    {
     "name": "stdout",
     "output_type": "stream",
     "text": [
      "                      importance\n",
      "rain_july_              0.139489\n",
      "rain_june_              0.122457\n",
      "rain_august_            0.115833\n",
      "rain_september_         0.110371\n",
      "year_2018               0.103862\n",
      "rain_october_           0.086222\n",
      "lag_re705_              0.047195\n",
      "urea_                   0.044715\n",
      "irrigation_             0.037532\n",
      "potash_value            0.028675\n",
      "dap_                    0.018254\n",
      "ec_value                0.017807\n",
      "nitrogen_value          0.017290\n",
      "sulphur_value           0.015905\n",
      "phosphorous_value       0.015770\n",
      "sow_time                0.015255\n",
      "ph_value                0.015089\n",
      "soil_test_zinc_value    0.014444\n",
      "iron_value              0.013979\n",
      "knowledge_              0.008001\n"
     ]
    }
   ],
   "source": [
    "feature_importances = pd.DataFrame(rf.feature_importances_, index=X_train.columns, \n",
    "                                   columns=['importance']).sort_values('importance',ascending=False)\n",
    "print(feature_importances.head(20))"
   ]
  },
  {
   "cell_type": "markdown",
   "metadata": {},
   "source": [
    "### Scatter plot: predicted vs true value out of sample "
   ]
  },
  {
   "cell_type": "code",
   "execution_count": 23,
   "metadata": {},
   "outputs": [
    {
     "data": {
      "image/png": "[encoded data removed]",
      "text/plain": [
       "<Figure size 432x288 with 1 Axes>"
      ]
     },
     "metadata": {
      "needs_background": "light"
     },
     "output_type": "display_data"
    }
   ],
   "source": [
    "scatter_out_of_sample(rf)"
   ]
  },
  {
   "cell_type": "markdown",
   "metadata": {},
   "source": [
    "### Save predictions "
   ]
  },
  {
   "cell_type": "code",
   "execution_count": 24,
   "metadata": {},
   "outputs": [
    {
     "name": "stdout",
     "output_type": "stream",
     "text": [
      "                         uid  year  treatment  yield_hectare_2017  \\\n",
      "id                                                                  \n",
      "B01V01F00012017  B01V01F0001  2017          0           797.59241   \n",
      "B01V01F00012018  B01V01F0001  2018          0           797.59241   \n",
      "B01V01F00022017  B01V01F0002  2017          0          2396.62520   \n",
      "B01V01F00022018  B01V01F0002  2018          0          2396.62520   \n",
      "B01V01F00042017  B01V01F0004  2017          1          1758.19520   \n",
      "\n",
      "                 sat_yield_2017  max_re705_2016  max_re705_2017  e_net_re705  \\\n",
      "id                                                                             \n",
      "B01V01F00012017       1566.7423        0.227357        0.291366     0.370383   \n",
      "B01V01F00012018       1566.7423        0.227357        0.291366     0.336818   \n",
      "B01V01F00022017       2100.2913        0.422249        0.448436     0.399262   \n",
      "B01V01F00022018       2100.2913        0.422249        0.448436     0.359112   \n",
      "B01V01F00042017       2053.3210        0.378115        0.434609     0.395725   \n",
      "\n",
      "                 rf_re705  nn_re705  e_net_satellite_yield  rf_satellite_yield  \n",
      "id                                                                              \n",
      "B01V01F00012017  0.342153  0.446070            1786.354899         1794.406820  \n",
      "B01V01F00012018  0.213373  0.306741            1099.313026          615.815098  \n",
      "B01V01F00022017  0.419301  0.402174            1892.586154         1985.298940  \n",
      "B01V01F00022018  0.340858  0.332004            1181.815211         1085.252232  \n",
      "B01V01F00042017  0.392120  0.462966            1873.299400         1931.556308  \n"
     ]
    }
   ],
   "source": [
    "full_sample_predictions = rf.predict(full_X)\n",
    "predictions_df = pd.DataFrame(index=full_X.index)\n",
    "predictions_df['rf_satellite_yield'] = full_sample_predictions\n",
    "results = results.join(predictions_df)\n",
    "print(results.head())"
   ]
  },
  {
   "cell_type": "markdown",
   "metadata": {},
   "source": [
    "## Neural net"
   ]
  },
  {
   "cell_type": "code",
   "execution_count": 25,
   "metadata": {},
   "outputs": [
    {
     "name": "stdout",
     "output_type": "stream",
     "text": [
      "Training R^2: 0.683176763424062\n",
      "Out of sample R^2: 0.5895540066117599\n"
     ]
    }
   ],
   "source": [
    "scaler = StandardScaler().fit(X_train)\n",
    "X_train_sc = scaler.transform(X_train)\n",
    "X_test_sc = scaler.transform(X_test)\n",
    "\n",
    "nn = MLPRegressor(\n",
    "    hidden_layer_sizes=(250,250,250,250,), activation='relu',\n",
    "    early_stopping=True, learning_rate='adaptive', \n",
    "    max_iter=5000, learning_rate_init=0.001, random_state=7)\n",
    "\n",
    "nn.fit(X_train_sc, y_train)\n",
    "print(\"Training R^2: {}\".format(scoreR2(nn, X_train_sc, y_train)))\n",
    "print(\"Out of sample R^2: {}\".format(scoreR2(nn, X_test_sc, y_test)))"
   ]
  },
  {
   "cell_type": "markdown",
   "metadata": {},
   "source": [
    "### Scatter plot: predicted vs true value out of sample"
   ]
  },
  {
   "cell_type": "code",
   "execution_count": 26,
   "metadata": {},
   "outputs": [
    {
     "data": {
      "image/png": "[encoded data removed]",
      "text/plain": [
       "<Figure size 432x288 with 1 Axes>"
      ]
     },
     "metadata": {
      "needs_background": "light"
     },
     "output_type": "display_data"
    }
   ],
   "source": [
    "validate_year_2018 = X_test[['year_2018']].reset_index().drop(columns=['id'])\n",
    "predictions = nn.predict(X_test_sc)\n",
    "predictions = pd.DataFrame(predictions)\n",
    "predictions.rename(columns={0: 'prediction'}, inplace=True)\n",
    "predictions = predictions.join(pd.DataFrame(y_test).rename(columns={0: 'satellite_yield_'}))\n",
    "predictions = predictions.join(validate_year_2018)\n",
    "\n",
    "year_2018 = [0, 1]\n",
    "z = [1, 2]\n",
    "hot = plt.get_cmap('hot')\n",
    "cNorm = colors.Normalize(vmin=0, vmax=2)\n",
    "scalarMap = cmx.ScalarMappable(norm=cNorm, cmap=hot)\n",
    "\n",
    "x = predictions['prediction']\n",
    "y = predictions['satellite_yield_']\n",
    "\n",
    "fig, ax = plt.subplots()\n",
    "\n",
    "for i in [0, 1]:\n",
    "    label = 2017 + i\n",
    "    indx = predictions['year_2018'] == i\n",
    "    plt.scatter(x[indx], y[indx], s=15, color=scalarMap.to_rgba(i), label=label)\n",
    "\n",
    "_x = np.linspace(*ax.get_xlim())\n",
    "ax.plot(_x, _x)\n",
    "\n",
    "plt.title('Predicted vs actual productivity, N = {}, R^2 = {}'.format(len(y_test), '%.2f'%scoreR2(nn, X_test_sc, y_test)))\n",
    "plt.xlabel(\"Out of sample prediction\")\n",
    "plt.ylabel(\"satellite_yield_\")\n",
    "plt.legend(loc='upper left')\n",
    "plt.show()"
   ]
  },
  {
   "cell_type": "markdown",
   "metadata": {},
   "source": [
    "### Save predictions"
   ]
  },
  {
   "cell_type": "code",
   "execution_count": 27,
   "metadata": {
    "scrolled": false
   },
   "outputs": [
    {
     "name": "stdout",
     "output_type": "stream",
     "text": [
      "                         uid  year  treatment  yield_hectare_2017  \\\n",
      "id                                                                  \n",
      "B01V01F00012017  B01V01F0001  2017          0           797.59241   \n",
      "B01V01F00012018  B01V01F0001  2018          0           797.59241   \n",
      "B01V01F00022017  B01V01F0002  2017          0          2396.62520   \n",
      "B01V01F00022018  B01V01F0002  2018          0          2396.62520   \n",
      "B01V01F00042017  B01V01F0004  2017          1          1758.19520   \n",
      "\n",
      "                 sat_yield_2017  max_re705_2016  max_re705_2017  e_net_re705  \\\n",
      "id                                                                             \n",
      "B01V01F00012017       1566.7423        0.227357        0.291366     0.370383   \n",
      "B01V01F00012018       1566.7423        0.227357        0.291366     0.336818   \n",
      "B01V01F00022017       2100.2913        0.422249        0.448436     0.399262   \n",
      "B01V01F00022018       2100.2913        0.422249        0.448436     0.359112   \n",
      "B01V01F00042017       2053.3210        0.378115        0.434609     0.395725   \n",
      "\n",
      "                 rf_re705  nn_re705  e_net_satellite_yield  \\\n",
      "id                                                           \n",
      "B01V01F00012017  0.342153  0.446070            1786.354899   \n",
      "B01V01F00012018  0.213373  0.306741            1099.313026   \n",
      "B01V01F00022017  0.419301  0.402174            1892.586154   \n",
      "B01V01F00022018  0.340858  0.332004            1181.815211   \n",
      "B01V01F00042017  0.392120  0.462966            1873.299400   \n",
      "\n",
      "                 rf_satellite_yield  nn_satellite_yield  \n",
      "id                                                       \n",
      "B01V01F00012017         1794.406820         1996.299450  \n",
      "B01V01F00012018          615.815098         1043.861136  \n",
      "B01V01F00022017         1985.298940         1738.602560  \n",
      "B01V01F00022018         1085.252232          920.743415  \n",
      "B01V01F00042017         1931.556308         2047.754333  \n"
     ]
    }
   ],
   "source": [
    "full_X_sc = scaler.transform(full_X)\n",
    "full_sample_predictions = nn.predict(full_X_sc)\n",
    "predictions_df = pd.DataFrame(index=full_X.index)\n",
    "predictions_df['nn_satellite_yield'] = full_sample_predictions\n",
    "results = results.join(predictions_df)\n",
    "print(results.head())"
   ]
  },
  {
   "cell_type": "markdown",
   "metadata": {},
   "source": [
    "# Farmer-reported yields"
   ]
  },
  {
   "cell_type": "markdown",
   "metadata": {},
   "source": [
    "Thurd, examine satellite yield measurements. "
   ]
  },
  {
   "cell_type": "markdown",
   "metadata": {},
   "source": [
    "## Data preparation and imports"
   ]
  },
  {
   "cell_type": "code",
   "execution_count": 28,
   "metadata": {},
   "outputs": [],
   "source": [
    "raw_df = pd.read_csv('../data/nosync/yield_prediction.csv')\n",
    "raw_df.set_index('id', inplace=True)\n",
    "\n",
    "raw_df.drop(columns = ['max_re705_', 'satellite_yield_'], inplace=True)  # Just look at Red-edge NDVI values for now\n",
    "\n",
    "raw_df.dropna(subset=['yield_hectare_'], inplace=True)\n",
    "\n",
    "# Imput missing DVs to the median \n",
    "fill_NaN = SimpleImputer(strategy='median')\n",
    "df = pd.DataFrame(fill_NaN.fit_transform(raw_df))\n",
    "df.columns = raw_df.columns\n",
    "df.index = raw_df.index\n",
    "\n",
    "# Copy dataframe, then remove 2018 treatment \n",
    "full_df = df.copy(deep=True)\n",
    "df.drop(df.loc[raw_df['treatment']==1].index, inplace=True) \n",
    "df.drop(columns=['treatment'], inplace=True)\n",
    "full_df.drop(columns=['treatment'], inplace=True)\n",
    "\n",
    "# Separate IVs and DVs\n",
    "y = df[['yield_hectare_']]\n",
    "X = df.drop(columns=['yield_hectare_'])\n",
    "full_y = full_df[['yield_hectare_']]\n",
    "full_X = full_df.drop(columns=['yield_hectare_'])\n",
    "\n",
    "# Split data into training and testing samples \n",
    "X_train, X_test, y_train, y_test = train_test_split(X, y, test_size=0.2, random_state=1)\n",
    "y_train = y_train.values.ravel()\n",
    "y_test = y_test.values.ravel()\n",
    "\n",
    "# Define function to compute R2\n",
    "def scoreR2(predictor, X, true_y):\n",
    "    predictions = predictor.predict(X)\n",
    "    return r2_score(true_y, predictions)\n"
   ]
  },
  {
   "cell_type": "code",
   "execution_count": 29,
   "metadata": {},
   "outputs": [],
   "source": [
    "# Define a function to plot out of sample predictions vs true values colored by year \n",
    "def scatter_out_of_sample(model):\n",
    "    validate_year_2018 = X_test[['year_2018']].reset_index().drop(columns=['id'])\n",
    "    predictions = model.predict(X_test)\n",
    "    predictions = pd.DataFrame(predictions)\n",
    "    predictions.rename(columns={0: 'prediction'}, inplace=True)\n",
    "    predictions = predictions.join(pd.DataFrame(y_test).rename(columns={0: 'yield_hectare_'}))\n",
    "    predictions = predictions.join(validate_year_2018)\n",
    "\n",
    "    year_2018 = [0, 1]\n",
    "    z = [1, 2]\n",
    "    hot = plt.get_cmap('hot')\n",
    "    cNorm = colors.Normalize(vmin=0, vmax=2)\n",
    "    scalarMap = cmx.ScalarMappable(norm=cNorm, cmap=hot)\n",
    "\n",
    "    x = predictions['prediction']\n",
    "    y = predictions['yield_hectare_']\n",
    "    \n",
    "    fig, ax = plt.subplots()\n",
    "\n",
    "    for i in [0, 1]:\n",
    "        label = 2017 + i\n",
    "        indx = predictions['year_2018'] == i\n",
    "        plt.scatter(x[indx], y[indx], s=15, color=scalarMap.to_rgba(i), label=label)\n",
    "    \n",
    "    _x = np.linspace(*ax.get_xlim())\n",
    "    ax.plot(_x, _x)\n",
    "\n",
    "    plt.title('Predicted vs actual productivity, N = {}, R^2 = {}'.format(len(y_test), '%.2f'%scoreR2(model, X_test, y_test)))\n",
    "    plt.xlabel(\"Out of sample prediction\")\n",
    "    plt.ylabel(\"yield_hectare_\")\n",
    "    plt.legend(loc='upper left')\n",
    "    plt.show()"
   ]
  },
  {
   "cell_type": "markdown",
   "metadata": {},
   "source": [
    "## Elastic net"
   ]
  },
  {
   "cell_type": "code",
   "execution_count": 30,
   "metadata": {},
   "outputs": [
    {
     "name": "stdout",
     "output_type": "stream",
     "text": [
      "Optimal alpha: 0.16208458\n",
      "Optimal l1_ratio: 1.000\n",
      "Number of iterations 171\n",
      "Training R^2: 0.32779573029669484\n",
      "Out of sample R^2: 0.36796963781531966\n"
     ]
    }
   ],
   "source": [
    "e_net_cv = ElasticNetCV(l1_ratio=[.1, .5, .7, .9, .95, .99, .995, 1], eps=0.001, n_alphas=100, fit_intercept=True, \n",
    "                        normalize=True, precompute='auto', max_iter=10000, tol=0.0001, cv=5, \n",
    "                        copy_X=True, verbose=0, n_jobs=2, selection='cyclic')\n",
    "\n",
    "e_net_cv.fit(X_train, y_train)\n",
    "\n",
    "print('Optimal alpha: %.8f'%e_net_cv.alpha_)\n",
    "print('Optimal l1_ratio: %.3f'%e_net_cv.l1_ratio_)\n",
    "print('Number of iterations %d'%e_net_cv.n_iter_)\n",
    "\n",
    "e_net = ElasticNet(l1_ratio=e_net_cv.l1_ratio_, alpha = e_net_cv.alpha_, \n",
    "                        max_iter=e_net_cv.n_iter_, fit_intercept=True, normalize = True)\n",
    "e_net.fit(X_train, y_train)\n",
    "\n",
    "print(\"Training R^2: {}\".format(scoreR2(e_net, X_train, y_train)))\n",
    "print(\"Out of sample R^2: {}\".format(scoreR2(e_net, X_test, y_test)))"
   ]
  },
  {
   "cell_type": "markdown",
   "metadata": {},
   "source": [
    "### Feature importance"
   ]
  },
  {
   "cell_type": "code",
   "execution_count": 31,
   "metadata": {},
   "outputs": [
    {
     "data": {
      "text/plain": [
       "<matplotlib.axes._subplots.AxesSubplot at 0x7f9dcad9beb8>"
      ]
     },
     "execution_count": 31,
     "metadata": {},
     "output_type": "execute_result"
    },
    {
     "data": {
      "image/png": "[encoded data removed]",
      "text/plain": [
       "<Figure size 1296x432 with 1 Axes>"
      ]
     },
     "metadata": {
      "needs_background": "light"
     },
     "output_type": "display_data"
    }
   ],
   "source": [
    "feature_importance = pd.Series(index = X_train.columns, data = np.abs(e_net.coef_))\n",
    "feature_importance.sort_values().tail(10).plot(kind = 'bar', figsize = (18,6))"
   ]
  },
  {
   "cell_type": "markdown",
   "metadata": {},
   "source": [
    "### Scatter plot: predicted vs true value out of sample "
   ]
  },
  {
   "cell_type": "code",
   "execution_count": 32,
   "metadata": {
    "scrolled": false
   },
   "outputs": [
    {
     "data": {
      "image/png": "[encoded data removed]",
      "text/plain": [
       "<Figure size 432x288 with 1 Axes>"
      ]
     },
     "metadata": {
      "needs_background": "light"
     },
     "output_type": "display_data"
    }
   ],
   "source": [
    "scatter_out_of_sample(e_net)"
   ]
  },
  {
   "cell_type": "markdown",
   "metadata": {},
   "source": [
    "### Save predictions "
   ]
  },
  {
   "cell_type": "code",
   "execution_count": 33,
   "metadata": {
    "scrolled": false
   },
   "outputs": [
    {
     "name": "stdout",
     "output_type": "stream",
     "text": [
      "                         uid  year  treatment  yield_hectare_2017  \\\n",
      "id                                                                  \n",
      "B01V01F00012017  B01V01F0001  2017          0           797.59241   \n",
      "B01V01F00012018  B01V01F0001  2018          0           797.59241   \n",
      "B01V01F00022017  B01V01F0002  2017          0          2396.62520   \n",
      "B01V01F00022018  B01V01F0002  2018          0          2396.62520   \n",
      "B01V01F00042017  B01V01F0004  2017          1          1758.19520   \n",
      "\n",
      "                 sat_yield_2017  max_re705_2016  max_re705_2017  e_net_re705  \\\n",
      "id                                                                             \n",
      "B01V01F00012017       1566.7423        0.227357        0.291366     0.370383   \n",
      "B01V01F00012018       1566.7423        0.227357        0.291366     0.336818   \n",
      "B01V01F00022017       2100.2913        0.422249        0.448436     0.399262   \n",
      "B01V01F00022018       2100.2913        0.422249        0.448436     0.359112   \n",
      "B01V01F00042017       2053.3210        0.378115        0.434609     0.395725   \n",
      "\n",
      "                 rf_re705  nn_re705  e_net_satellite_yield  \\\n",
      "id                                                           \n",
      "B01V01F00012017  0.342153  0.446070            1786.354899   \n",
      "B01V01F00012018  0.213373  0.306741            1099.313026   \n",
      "B01V01F00022017  0.419301  0.402174            1892.586154   \n",
      "B01V01F00022018  0.340858  0.332004            1181.815211   \n",
      "B01V01F00042017  0.392120  0.462966            1873.299400   \n",
      "\n",
      "                 rf_satellite_yield  nn_satellite_yield  e_net_fr_yield  \n",
      "id                                                                       \n",
      "B01V01F00012017         1794.406820         1996.299450     1785.387023  \n",
      "B01V01F00012018          615.815098         1043.861136     1009.160725  \n",
      "B01V01F00022017         1985.298940         1738.602560     1971.931562  \n",
      "B01V01F00022018         1085.252232          920.743415     1361.124275  \n",
      "B01V01F00042017         1931.556308         2047.754333     2071.734987  \n"
     ]
    }
   ],
   "source": [
    "full_sample_predictions = e_net.predict(full_X)\n",
    "predictions_df = pd.DataFrame(index=full_X.index)\n",
    "predictions_df['e_net_fr_yield'] = full_sample_predictions\n",
    "results = results.join(predictions_df)\n",
    "print(results.head())"
   ]
  },
  {
   "cell_type": "markdown",
   "metadata": {},
   "source": [
    "## Random forest"
   ]
  },
  {
   "cell_type": "code",
   "execution_count": 34,
   "metadata": {},
   "outputs": [
    {
     "name": "stdout",
     "output_type": "stream",
     "text": [
      "{'bootstrap': True, 'max_depth': 15, 'max_features': 'sqrt', 'min_samples_leaf': 4, 'min_samples_split': 3, 'n_estimators': 500}\n",
      "Training R^2: 0.7182278252476186\n",
      "Out of sample R^2: 0.40493953915556713\n"
     ]
    }
   ],
   "source": [
    "#GridSearchCV\n",
    "n_estimators = [500, 1000, 1500]  # Trees\n",
    "max_features = ['sqrt']  # Max feature to consider at each split \n",
    "max_depth = [5, 10, 15]  \n",
    "min_samples_split = [3, 4, 5]\n",
    "min_samples_leaf = [3, 4]\n",
    "bootstrap = [True]\n",
    "\n",
    "# Create the grid \n",
    "grid = {'n_estimators': n_estimators, 'max_features': max_features, 'max_depth': max_depth,\n",
    "        'min_samples_split': min_samples_split, 'min_samples_leaf': min_samples_leaf, 'bootstrap': bootstrap}\n",
    "rf_cv = GridSearchCV(estimator = RandomForestRegressor(), param_grid = grid, cv=5, n_jobs = 6, scoring='r2')\n",
    "rf_cv.fit(X_train, y_train)\n",
    "\n",
    "print(rf_cv.best_params_)\n",
    "rf = rf_cv.best_estimator_\n",
    "print(\"Training R^2: {}\".format(scoreR2(rf, X_train, y_train)))\n",
    "print(\"Out of sample R^2: {}\".format(scoreR2(rf, X_test, y_test)))"
   ]
  },
  {
   "cell_type": "markdown",
   "metadata": {},
   "source": [
    "### Feature importances "
   ]
  },
  {
   "cell_type": "code",
   "execution_count": 35,
   "metadata": {},
   "outputs": [
    {
     "name": "stdout",
     "output_type": "stream",
     "text": [
      "                      importance\n",
      "irrigation_             0.105384\n",
      "urea_                   0.096314\n",
      "rain_september_         0.077691\n",
      "rain_june_              0.062634\n",
      "rain_july_              0.060754\n",
      "sow_time                0.057110\n",
      "lag_re705_              0.055402\n",
      "potash_value            0.055001\n",
      "rain_august_            0.052203\n",
      "rain_october_           0.044161\n",
      "dap_                    0.041151\n",
      "ec_value                0.037398\n",
      "ph_value                0.035767\n",
      "sulphur_value           0.031416\n",
      "soil_test_zinc_value    0.031011\n",
      "phosphorous_value       0.030760\n",
      "nitrogen_value          0.029890\n",
      "iron_value              0.026574\n",
      "year_2018               0.024260\n",
      "knowledge_              0.017597\n"
     ]
    }
   ],
   "source": [
    "feature_importances = pd.DataFrame(rf.feature_importances_, index=X_train.columns, \n",
    "                                   columns=['importance']).sort_values('importance',ascending=False)\n",
    "print(feature_importances.head(20))"
   ]
  },
  {
   "cell_type": "markdown",
   "metadata": {},
   "source": [
    "### Scatter plot: predicted vs true value out of sample "
   ]
  },
  {
   "cell_type": "code",
   "execution_count": 36,
   "metadata": {},
   "outputs": [
    {
     "data": {
      "image/png": "[encoded data removed]",
      "text/plain": [
       "<Figure size 432x288 with 1 Axes>"
      ]
     },
     "metadata": {
      "needs_background": "light"
     },
     "output_type": "display_data"
    }
   ],
   "source": [
    "scatter_out_of_sample(rf)"
   ]
  },
  {
   "cell_type": "markdown",
   "metadata": {},
   "source": [
    "### Save predictions "
   ]
  },
  {
   "cell_type": "code",
   "execution_count": 37,
   "metadata": {},
   "outputs": [
    {
     "name": "stdout",
     "output_type": "stream",
     "text": [
      "                         uid  year  treatment  yield_hectare_2017  \\\n",
      "id                                                                  \n",
      "B01V01F00012017  B01V01F0001  2017          0           797.59241   \n",
      "B01V01F00012018  B01V01F0001  2018          0           797.59241   \n",
      "B01V01F00022017  B01V01F0002  2017          0          2396.62520   \n",
      "B01V01F00022018  B01V01F0002  2018          0          2396.62520   \n",
      "B01V01F00042017  B01V01F0004  2017          1          1758.19520   \n",
      "\n",
      "                 sat_yield_2017  max_re705_2016  max_re705_2017  e_net_re705  \\\n",
      "id                                                                             \n",
      "B01V01F00012017       1566.7423        0.227357        0.291366     0.370383   \n",
      "B01V01F00012018       1566.7423        0.227357        0.291366     0.336818   \n",
      "B01V01F00022017       2100.2913        0.422249        0.448436     0.399262   \n",
      "B01V01F00022018       2100.2913        0.422249        0.448436     0.359112   \n",
      "B01V01F00042017       2053.3210        0.378115        0.434609     0.395725   \n",
      "\n",
      "                 rf_re705  nn_re705  e_net_satellite_yield  \\\n",
      "id                                                           \n",
      "B01V01F00012017  0.342153  0.446070            1786.354899   \n",
      "B01V01F00012018  0.213373  0.306741            1099.313026   \n",
      "B01V01F00022017  0.419301  0.402174            1892.586154   \n",
      "B01V01F00022018  0.340858  0.332004            1181.815211   \n",
      "B01V01F00042017  0.392120  0.462966            1873.299400   \n",
      "\n",
      "                 rf_satellite_yield  nn_satellite_yield  e_net_fr_yield  \\\n",
      "id                                                                        \n",
      "B01V01F00012017         1794.406820         1996.299450     1785.387023   \n",
      "B01V01F00012018          615.815098         1043.861136     1009.160725   \n",
      "B01V01F00022017         1985.298940         1738.602560     1971.931562   \n",
      "B01V01F00022018         1085.252232          920.743415     1361.124275   \n",
      "B01V01F00042017         1931.556308         2047.754333     2071.734987   \n",
      "\n",
      "                 rf_fr_yield  \n",
      "id                            \n",
      "B01V01F00012017  1554.725368  \n",
      "B01V01F00012018   549.391362  \n",
      "B01V01F00022017  2138.327884  \n",
      "B01V01F00022018  1001.334407  \n",
      "B01V01F00042017  1916.391887  \n"
     ]
    }
   ],
   "source": [
    "full_sample_predictions = rf.predict(full_X)\n",
    "predictions_df = pd.DataFrame(index=full_X.index)\n",
    "predictions_df['rf_fr_yield'] = full_sample_predictions\n",
    "results = results.join(predictions_df)\n",
    "print(results.head())"
   ]
  },
  {
   "cell_type": "markdown",
   "metadata": {},
   "source": [
    "## Neural net"
   ]
  },
  {
   "cell_type": "code",
   "execution_count": 38,
   "metadata": {},
   "outputs": [
    {
     "name": "stdout",
     "output_type": "stream",
     "text": [
      "Training R^2: 0.4011558134294497\n",
      "Out of sample R^2: 0.3300245833750609\n"
     ]
    }
   ],
   "source": [
    "scaler = StandardScaler().fit(X_train)\n",
    "X_train_sc = scaler.transform(X_train)\n",
    "X_test_sc = scaler.transform(X_test)\n",
    "\n",
    "nn = MLPRegressor(\n",
    "    hidden_layer_sizes=(250,250,250,250,), activation='relu',\n",
    "    early_stopping=True, learning_rate='adaptive', \n",
    "    max_iter=5000, learning_rate_init=0.001, random_state=7)\n",
    "\n",
    "nn.fit(X_train_sc, y_train)\n",
    "print(\"Training R^2: {}\".format(scoreR2(nn, X_train_sc, y_train)))\n",
    "print(\"Out of sample R^2: {}\".format(scoreR2(nn, X_test_sc, y_test)))"
   ]
  },
  {
   "cell_type": "markdown",
   "metadata": {},
   "source": [
    "### Scatter plot: predicted vs true value out of sample"
   ]
  },
  {
   "cell_type": "code",
   "execution_count": 39,
   "metadata": {},
   "outputs": [
    {
     "data": {
      "image/png": "[encoded data removed]",
      "text/plain": [
       "<Figure size 432x288 with 1 Axes>"
      ]
     },
     "metadata": {
      "needs_background": "light"
     },
     "output_type": "display_data"
    }
   ],
   "source": [
    "validate_year_2018 = X_test[['year_2018']].reset_index().drop(columns=['id'])\n",
    "predictions = nn.predict(X_test_sc)\n",
    "predictions = pd.DataFrame(predictions)\n",
    "predictions.rename(columns={0: 'prediction'}, inplace=True)\n",
    "predictions = predictions.join(pd.DataFrame(y_test).rename(columns={0: 'yield_hectare_'}))\n",
    "predictions = predictions.join(validate_year_2018)\n",
    "\n",
    "year_2018 = [0, 1]\n",
    "z = [1, 2]\n",
    "hot = plt.get_cmap('hot')\n",
    "cNorm = colors.Normalize(vmin=0, vmax=2)\n",
    "scalarMap = cmx.ScalarMappable(norm=cNorm, cmap=hot)\n",
    "\n",
    "x = predictions['prediction']\n",
    "y = predictions['yield_hectare_']\n",
    "\n",
    "fig, ax = plt.subplots()\n",
    "\n",
    "for i in [0, 1]:\n",
    "    label = 2017 + i\n",
    "    indx = predictions['year_2018'] == i\n",
    "    plt.scatter(x[indx], y[indx], s=15, color=scalarMap.to_rgba(i), label=label)\n",
    "\n",
    "_x = np.linspace(*ax.get_xlim())\n",
    "ax.plot(_x, _x)\n",
    "\n",
    "plt.title('Predicted vs actual productivity, N = {}, R^2 = {}'.format(len(y_test), '%.2f'%scoreR2(nn, X_test_sc, y_test)))\n",
    "plt.xlabel(\"Out of sample prediction\")\n",
    "plt.ylabel(\"yield_hectare_\")\n",
    "plt.legend(loc='upper left')\n",
    "plt.show()"
   ]
  },
  {
   "cell_type": "markdown",
   "metadata": {},
   "source": [
    "### Save predictions"
   ]
  },
  {
   "cell_type": "code",
   "execution_count": 40,
   "metadata": {
    "scrolled": false
   },
   "outputs": [
    {
     "name": "stdout",
     "output_type": "stream",
     "text": [
      "                         uid  year  treatment  yield_hectare_2017  \\\n",
      "id                                                                  \n",
      "B01V01F00012017  B01V01F0001  2017          0           797.59241   \n",
      "B01V01F00012018  B01V01F0001  2018          0           797.59241   \n",
      "B01V01F00022017  B01V01F0002  2017          0          2396.62520   \n",
      "B01V01F00022018  B01V01F0002  2018          0          2396.62520   \n",
      "B01V01F00042017  B01V01F0004  2017          1          1758.19520   \n",
      "\n",
      "                 sat_yield_2017  max_re705_2016  max_re705_2017  e_net_re705  \\\n",
      "id                                                                             \n",
      "B01V01F00012017       1566.7423        0.227357        0.291366     0.370383   \n",
      "B01V01F00012018       1566.7423        0.227357        0.291366     0.336818   \n",
      "B01V01F00022017       2100.2913        0.422249        0.448436     0.399262   \n",
      "B01V01F00022018       2100.2913        0.422249        0.448436     0.359112   \n",
      "B01V01F00042017       2053.3210        0.378115        0.434609     0.395725   \n",
      "\n",
      "                 rf_re705  nn_re705  e_net_satellite_yield  \\\n",
      "id                                                           \n",
      "B01V01F00012017  0.342153  0.446070            1786.354899   \n",
      "B01V01F00012018  0.213373  0.306741            1099.313026   \n",
      "B01V01F00022017  0.419301  0.402174            1892.586154   \n",
      "B01V01F00022018  0.340858  0.332004            1181.815211   \n",
      "B01V01F00042017  0.392120  0.462966            1873.299400   \n",
      "\n",
      "                 rf_satellite_yield  nn_satellite_yield  e_net_fr_yield  \\\n",
      "id                                                                        \n",
      "B01V01F00012017         1794.406820         1996.299450     1785.387023   \n",
      "B01V01F00012018          615.815098         1043.861136     1009.160725   \n",
      "B01V01F00022017         1985.298940         1738.602560     1971.931562   \n",
      "B01V01F00022018         1085.252232          920.743415     1361.124275   \n",
      "B01V01F00042017         1931.556308         2047.754333     2071.734987   \n",
      "\n",
      "                 rf_fr_yield  nn_fr_yield  \n",
      "id                                         \n",
      "B01V01F00012017  1554.725368  2062.733073  \n",
      "B01V01F00012018   549.391362   763.425945  \n",
      "B01V01F00022017  2138.327884  2046.360093  \n",
      "B01V01F00022018  1001.334407  1120.577085  \n",
      "B01V01F00042017  1916.391887  2451.293862  \n"
     ]
    }
   ],
   "source": [
    "full_X_sc = scaler.transform(full_X)\n",
    "full_sample_predictions = nn.predict(full_X_sc)\n",
    "predictions_df = pd.DataFrame(index=full_X.index)\n",
    "predictions_df['nn_fr_yield'] = full_sample_predictions\n",
    "results = results.join(predictions_df)\n",
    "print(results.head())\n",
    "results.to_csv('../data/nosync/predicted_yields.csv')"
   ]
  },
  {
   "cell_type": "markdown",
   "metadata": {},
   "source": [
    "# Analysis "
   ]
  },
  {
   "cell_type": "markdown",
   "metadata": {},
   "source": [
    "We next examine whether there is an expected treatment effect given the predicted yields."
   ]
  },
  {
   "cell_type": "markdown",
   "metadata": {},
   "source": [
    "## Reshape results to wide"
   ]
  },
  {
   "cell_type": "code",
   "execution_count": 41,
   "metadata": {},
   "outputs": [],
   "source": [
    "values = [x for x in results.columns if x not in ['uid', 'year']]\n",
    "results['year'] = pd.to_numeric(results['year'])\n",
    "results_wide = results.pivot(index='uid', columns='year', values=values)\n",
    "results_wide.columns = results_wide.columns.to_flat_index()\n",
    "\n",
    "years = [2017, 2018]\n",
    "to_rename = {}\n",
    "to_drop = []\n",
    "for x in values:\n",
    "    #  First process variables that are not constant across years\n",
    "    if x in ['e_net_re705', 'e_net_satellite_yield', 'e_net_fr_yield',\n",
    "            'rf_re705', 'rf_satellite_yield', 'rf_fr_yield',\n",
    "            'nn_re705', 'nn_satellite_yield', 'nn_fr_yield']:\n",
    "        for y in years:\n",
    "            to_rename[(x,y)] = x + '_' + str(y)\n",
    "    #  Second process variables that are constant across years\n",
    "    else:\n",
    "        to_rename[(x,years[0])] = x\n",
    "        to_drop.append((x,years[1]))\n",
    "\n",
    "results_wide.drop(columns=to_drop, inplace=True)\n",
    "results_wide.rename(columns=to_rename, inplace=True)"
   ]
  },
  {
   "cell_type": "markdown",
   "metadata": {},
   "source": [
    "## reNDVI"
   ]
  },
  {
   "cell_type": "code",
   "execution_count": 42,
   "metadata": {
    "scrolled": true
   },
   "outputs": [
    {
     "name": "stderr",
     "output_type": "stream",
     "text": [
      "R[write to console]: Registered S3 methods overwritten by 'broom':\n",
      "  method            from  \n",
      "  tidy.glht         jtools\n",
      "  tidy.summary.glht jtools\n",
      "\n",
      "R[write to console]: Loading required namespace: broom.mixed\n",
      "\n"
     ]
    },
    {
     "name": "stdout",
     "output_type": "stream",
     "text": [
      "\u001b[4mMODEL INFO:\u001b[24m\n",
      "\u001b[3mObservations:\u001b[23m 1385 (3 missing obs. deleted)\n",
      "\u001b[3mDependent Variable:\u001b[23m rf_re705_2018\n",
      "\u001b[3mType:\u001b[23m OLS linear regression \n",
      "\n",
      "\u001b[4mMODEL FIT:\u001b[24m\n",
      "\u001b[3mF\u001b[23m(3,1381) = 109.98, \u001b[3mp\u001b[23m = 0.00\n",
      "\u001b[3mR² = \u001b[23m0.19\n",
      "\u001b[3mAdj. R² = \u001b[23m0.19 \n",
      "\n",
      "\u001b[3mStandard errors:\u001b[23m Robust, \u001b[3mtype = \u001b[23mHC1\n",
      "--------------------------------------------------\n",
      "                       Est.   S.E.   t val.      p\n",
      "-------------------- ------ ------ -------- ------\n",
      "(Intercept)            0.18   0.01    26.28   0.00\n",
      "treatment              0.00   0.00     0.03   0.98\n",
      "max_re705_2017         0.17   0.02    10.06   0.00\n",
      "max_re705_2016         0.17   0.02     9.34   0.00\n",
      "--------------------------------------------------\n",
      "\n"
     ]
    },
    {
     "name": "stderr",
     "output_type": "stream",
     "text": [
      "R[write to console]: Registered S3 methods overwritten by 'broom.mixed':\n",
      "  method         from \n",
      "  augment.lme    broom\n",
      "  augment.merMod broom\n",
      "  glance.lme     broom\n",
      "  glance.merMod  broom\n",
      "  glance.stanreg broom\n",
      "  tidy.brmsfit   broom\n",
      "  tidy.gamlss    broom\n",
      "  tidy.lme       broom\n",
      "  tidy.merMod    broom\n",
      "  tidy.rjags     broom\n",
      "  tidy.stanfit   broom\n",
      "  tidy.stanreg   broom\n",
      "\n"
     ]
    },
    {
     "data": {
      "image/png": "[encoded data removed]",
      "text/plain": [
       "<IPython.core.display.Image object>"
      ]
     },
     "execution_count": 42,
     "metadata": {},
     "output_type": "execute_result"
    }
   ],
   "source": [
    "robjects.globalenv['results'] = results_wide\n",
    "re705_e_net = stats.lm('e_net_re705_2018 ~ treatment + max_re705_2017 + max_re705_2016', data=base.as_symbol('results'))\n",
    "re705_rf = stats.lm('rf_re705_2018 ~ treatment + max_re705_2017 + max_re705_2016', data=base.as_symbol('results'))\n",
    "re705_nn = stats.lm('nn_re705_2018 ~ treatment + max_re705_2017 + max_re705_2016', data=base.as_symbol('results'))\n",
    "print(jtools.summ(re705_rf, robust = \"HC1\"))  # Print the regression results from the best model\n",
    "\n",
    "p = jtools.plot_summs(re705_e_net, re705_rf, re705_nn, ci_level = 0.95)  # Plot regression coefficients for each model\n",
    "image_png(p)"
   ]
  },
  {
   "cell_type": "code",
   "execution_count": 43,
   "metadata": {},
   "outputs": [],
   "source": [
    "%load_ext rpy2.ipython"
   ]
  },
  {
   "cell_type": "code",
   "execution_count": 44,
   "metadata": {},
   "outputs": [
    {
     "data": {
      "image/png": "[encoded data removed]"
     },
     "metadata": {},
     "output_type": "display_data"
    }
   ],
   "source": [
    "%%R\n",
    "re705_e_net = lm('e_net_re705_2018 ~ treatment + max_re705_2017 + max_re705_2016', data=results)\n",
    "re705_rf = lm('rf_re705_2018 ~ treatment + max_re705_2017 + max_re705_2016', data=results)\n",
    "re705_nn = lm('nn_re705_2018 ~ treatment + max_re705_2017 + max_re705_2016', data=results)\n",
    "coefs = c('treatment')\n",
    "names(coefs) = c('Treatment')\n",
    "plot_summs(re705_e_net, re705_rf, re705_nn, ci_level = 0.95, coefs=coefs,\n",
    "          model.names=c('Elastic net', 'Random forest', 'Neural net'))"
   ]
  },
  {
   "cell_type": "markdown",
   "metadata": {},
   "source": [
    "## Satellite yield"
   ]
  },
  {
   "cell_type": "code",
   "execution_count": 45,
   "metadata": {
    "scrolled": true
   },
   "outputs": [
    {
     "name": "stdout",
     "output_type": "stream",
     "text": [
      "\u001b[4mMODEL INFO:\u001b[24m\n",
      "\u001b[3mObservations:\u001b[23m 1385 (3 missing obs. deleted)\n",
      "\u001b[3mDependent Variable:\u001b[23m rf_satellite_yield_2018\n",
      "\u001b[3mType:\u001b[23m OLS linear regression \n",
      "\n",
      "\u001b[4mMODEL FIT:\u001b[24m\n",
      "\u001b[3mF\u001b[23m(3,1381) = 101.25, \u001b[3mp\u001b[23m = 0.00\n",
      "\u001b[3mR² = \u001b[23m0.18\n",
      "\u001b[3mAdj. R² = \u001b[23m0.18 \n",
      "\n",
      "\u001b[3mStandard errors:\u001b[23m Robust, \u001b[3mtype = \u001b[23mHC1\n",
      "-----------------------------------------------------\n",
      "                         Est.    S.E.   t val.      p\n",
      "-------------------- -------- ------- -------- ------\n",
      "(Intercept)            376.55   33.38    11.28   0.00\n",
      "treatment                1.51   13.63     0.11   0.91\n",
      "sat_yield_2017           0.18    0.02     9.82   0.00\n",
      "max_re705_2016         645.27   72.83     8.86   0.00\n",
      "-----------------------------------------------------\n",
      "\n"
     ]
    }
   ],
   "source": [
    "sat_e_net = stats.lm('e_net_satellite_yield_2018 ~ treatment + sat_yield_2017 + max_re705_2016', data=base.as_symbol('results'))\n",
    "sat_rf = stats.lm('rf_satellite_yield_2018 ~ treatment + sat_yield_2017 + max_re705_2016', data=base.as_symbol('results'))\n",
    "sat_nn = stats.lm('nn_satellite_yield_2018 ~ treatment + sat_yield_2017 + max_re705_2016', data=base.as_symbol('results'))\n",
    "print(jtools.summ(sat_rf, robust = \"HC1\"))  # Print the regression results from the best model"
   ]
  },
  {
   "cell_type": "code",
   "execution_count": 46,
   "metadata": {},
   "outputs": [
    {
     "data": {
      "image/png": "[encoded data removed]"
     },
     "metadata": {},
     "output_type": "display_data"
    }
   ],
   "source": [
    "%%R\n",
    "sat_e_net = lm('e_net_satellite_yield_2018 ~ treatment + sat_yield_2017 + max_re705_2016', results)\n",
    "sat_rf = lm('rf_satellite_yield_2018 ~ treatment + sat_yield_2017 + max_re705_2016', data=results)\n",
    "sat_nn = lm('nn_satellite_yield_2018 ~ treatment + sat_yield_2017 + max_re705_2016', data=results)\n",
    "coefs = c('treatment')\n",
    "names(coefs) = c('Treatment')\n",
    "plot_summs(sat_e_net, sat_rf, sat_nn, ci_level = 0.95, coefs=coefs,\n",
    "          model.names=c('Elastic net', 'Random forest', 'Neural net'))"
   ]
  },
  {
   "cell_type": "markdown",
   "metadata": {},
   "source": [
    "## Farmer-reported yield"
   ]
  },
  {
   "cell_type": "code",
   "execution_count": 47,
   "metadata": {
    "scrolled": true
   },
   "outputs": [
    {
     "name": "stdout",
     "output_type": "stream",
     "text": [
      "\u001b[4mMODEL INFO:\u001b[24m\n",
      "\u001b[3mObservations:\u001b[23m 1286 (102 missing obs. deleted)\n",
      "\u001b[3mDependent Variable:\u001b[23m rf_fr_yield_2018\n",
      "\u001b[3mType:\u001b[23m OLS linear regression \n",
      "\n",
      "\u001b[4mMODEL FIT:\u001b[24m\n",
      "\u001b[3mF\u001b[23m(2,1283) = 30.93, \u001b[3mp\u001b[23m = 0.00\n",
      "\u001b[3mR² = \u001b[23m0.05\n",
      "\u001b[3mAdj. R² = \u001b[23m0.04 \n",
      "\n",
      "\u001b[3mStandard errors:\u001b[23m Robust, \u001b[3mtype = \u001b[23mHC1\n",
      "---------------------------------------------------------\n",
      "                             Est.    S.E.   t val.      p\n",
      "------------------------ -------- ------- -------- ------\n",
      "(Intercept)                787.66   32.22    24.45   0.00\n",
      "treatment                   19.65   30.15     0.65   0.51\n",
      "yield_hectare_2017           0.10    0.01     7.84   0.00\n",
      "---------------------------------------------------------\n",
      "\n"
     ]
    }
   ],
   "source": [
    "fr_e_net = stats.lm('e_net_fr_yield_2018 ~ treatment + yield_hectare_2017', data=base.as_symbol('results'))\n",
    "fr_rf = stats.lm('rf_fr_yield_2018 ~ treatment + yield_hectare_2017', data=base.as_symbol('results'))\n",
    "fr_nn = stats.lm('nn_fr_yield_2018 ~ treatment + yield_hectare_2017', data=base.as_symbol('results'))\n",
    "print(jtools.summ(fr_rf, robust = \"HC1\"))  # Print the regression results from the best model"
   ]
  },
  {
   "cell_type": "code",
   "execution_count": 48,
   "metadata": {},
   "outputs": [
    {
     "data": {
      "image/png": "[encoded data removed]"
     },
     "metadata": {},
     "output_type": "display_data"
    }
   ],
   "source": [
    "%%R\n",
    "fr_e_net = lm('e_net_fr_yield_2018 ~ treatment + yield_hectare_2017', results)\n",
    "fr_rf = lm('rf_fr_yield_2018 ~ treatment + yield_hectare_2017', data=results)\n",
    "fr_nn = lm('nn_fr_yield_2018 ~ treatment + yield_hectare_2017', data=results)\n",
    "coefs = c('treatment')\n",
    "names(coefs) = c('Treatment')\n",
    "plot_summs(fr_e_net, fr_rf, fr_nn, ci_level = 0.95, coefs=coefs,\n",
    "          model.names=c('Elastic net', 'Random forest', 'Neural net'))"
   ]
  }
 ],
 "metadata": {
  "kernelspec": {
   "display_name": "Python 3",
   "language": "python",
   "name": "python3"
  },
  "language_info": {
   "codemirror_mode": {
    "name": "ipython",
    "version": 3
   },
   "file_extension": ".py",
   "mimetype": "text/x-python",
   "name": "python",
   "nbconvert_exporter": "python",
   "pygments_lexer": "ipython3",
   "version": "3.6.10"
  }
 },
 "nbformat": 4,
 "nbformat_minor": 4
}
