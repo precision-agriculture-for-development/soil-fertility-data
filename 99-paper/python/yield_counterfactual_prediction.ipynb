{
 "cells": [
  {
   "cell_type": "markdown",
   "metadata": {},
   "source": [
    "# Description"
   ]
  },
  {
   "cell_type": "markdown",
   "metadata": {},
   "source": [
    "This notebook is almost identical to yield_prediction.ipynb. However, we predict yields on a dataset in which we swap 2018 rainfall with 2017 rainfall. The purpose is to estimate a counterfactual of what the treatment would have looked like if rainfall was at 2017 levels, which was roughly average."
   ]
  },
  {
   "cell_type": "markdown",
   "metadata": {},
   "source": [
    "# reNDVI"
   ]
  },
  {
   "cell_type": "markdown",
   "metadata": {},
   "source": [
    "First try to predict raw reNDVI values in 2017, which may be more consistent across years since it doesn't depend on farmer recall. We will store results in the same dataframe for all outcome measures, and then save them as a CSV. A lot of code is redundant because it jsut gets copied and pasted from one measure to the next. "
   ]
  },
  {
   "cell_type": "markdown",
   "metadata": {},
   "source": [
    "## Data preparation and imports"
   ]
  },
  {
   "cell_type": "code",
   "execution_count": 1,
   "metadata": {},
   "outputs": [],
   "source": [
    "import numpy as np\n",
    "import pandas as pd\n",
    "from sklearn.impute import SimpleImputer\n",
    "from sklearn.model_selection import train_test_split\n",
    "from sklearn.linear_model import ElasticNetCV, ElasticNet\n",
    "from sklearn.ensemble import RandomForestRegressor\n",
    "from sklearn.metrics import r2_score\n",
    "from sklearn.model_selection import GridSearchCV\n",
    "from sklearn.neural_network import MLPRegressor\n",
    "from sklearn.preprocessing import StandardScaler\n",
    "from sklearn.ensemble import BaggingRegressor\n",
    "import matplotlib.pyplot as plt\n",
    "import matplotlib.colors as colors\n",
    "import matplotlib.cm as cmx\n",
    "import pandas as pd \n",
    "from rpy2 import robjects\n",
    "from rpy2.robjects.packages import importr\n",
    "from rpy2.robjects import pandas2ri\n",
    "from rpy2.ipython.ggplot import image_png\n",
    "\n",
    "base = importr('base')\n",
    "stats = importr('stats')\n",
    "jtools = importr('jtools')\n",
    "\n",
    "pandas2ri.activate()\n",
    "pandas2ri.default_timezone = 'GMT'  # To avoid warning "
   ]
  },
  {
   "cell_type": "code",
   "execution_count": 2,
   "metadata": {},
   "outputs": [],
   "source": [
    "raw_df = pd.read_csv('../data/nosync/yield_prediction.csv')\n",
    "raw_df.set_index('id', inplace=True)\n",
    "\n",
    "# Create dataframe to store predictions \n",
    "results = pd.DataFrame(index=raw_df.index)\n",
    "results['uid'] = results.index.str[:-4]\n",
    "results['year'] = pd.to_numeric(results.index.str[-4:])\n",
    "results['treatment'] = raw_df['treatment']\n",
    "results.loc[results['year'] == 2017, 'yield_hectare_2017'] = raw_df['yield_hectare_']\n",
    "results['yield_hectare_2017'] = results.groupby(['uid'])['yield_hectare_2017'].ffill()\n",
    "results.loc[results['year'] == 2017, 'sat_yield_2017'] = raw_df['satellite_yield_']\n",
    "results['sat_yield_2017'] = results.groupby(['uid'])['sat_yield_2017'].ffill()\n",
    "results.loc[results['year'] == 2017, 'max_re705_2016'] = raw_df['lag_re705_']\n",
    "results['max_re705_2016'] = results.groupby(['uid'])['max_re705_2016'].ffill()\n",
    "results.loc[results['year'] == 2018, 'max_re705_2017'] = raw_df['lag_re705_']\n",
    "results['max_re705_2017'] = results.groupby(['uid'])['max_re705_2017'].bfill()\n",
    "\n",
    "raw_df.drop(columns = ['yield_hectare_', 'satellite_yield_'], inplace=True)  # Just look at Red-edge NDVI values for now\n",
    "\n",
    "raw_df.dropna(subset=['max_re705_'], inplace=True)\n",
    "\n",
    "# Imput missing DVs to the median \n",
    "fill_NaN = SimpleImputer(strategy='median')\n",
    "df = pd.DataFrame(fill_NaN.fit_transform(raw_df))\n",
    "df.columns = raw_df.columns\n",
    "df.index = raw_df.index\n",
    "\n",
    "# Copy dataframe, then remove 2018 treatment \n",
    "# Full DF is what we later generate final predictions off of, so we replace 2018 rainfall with 2017 values\n",
    "full_df = df.copy(deep=True)\n",
    "df.drop(df.loc[raw_df['treatment']==1].index, inplace=True) \n",
    "df.drop(columns=['treatment'], inplace=True)\n",
    "full_df.drop(columns=['treatment'], inplace=True)\n",
    "full_df['uid'] = full_df.index.str[:-4]\n",
    "full_df['year'] = pd.to_numeric(full_df.index.str[-4:])\n",
    "full_df.loc[full_df['year'] == 2018, 'rain_june_'] = None \n",
    "full_df['rain_june_'] = full_df.groupby(['uid'])['rain_june_'].ffill()\n",
    "full_df.loc[full_df['year'] == 2018, 'rain_july_'] = None \n",
    "full_df['rain_july_'] = full_df.groupby(['uid'])['rain_july_'].ffill()\n",
    "full_df.loc[full_df['year'] == 2018, 'rain_august_'] = None \n",
    "full_df['rain_august_'] = full_df.groupby(['uid'])['rain_august_'].ffill()\n",
    "full_df.loc[full_df['year'] == 2018, 'rain_september_'] = None \n",
    "full_df['rain_september_'] = full_df.groupby(['uid'])['rain_september_'].ffill()\n",
    "full_df.loc[full_df['year'] == 2018, 'rain_october_'] = None \n",
    "full_df['rain_october_'] = full_df.groupby(['uid'])['rain_october_'].ffill()\n",
    "full_df.drop(columns=['uid', 'year'], inplace=True)\n",
    "# Since we don't have 2017 data for some plots, there will be missing rainfall. Drop these.\n",
    "full_df.dropna(subset=['rain_june_'], inplace=True)\n",
    "\n",
    "# Separate IVs and DVs\n",
    "y = df[['max_re705_']]\n",
    "X = df.drop(columns=['max_re705_'])\n",
    "full_y = full_df[['max_re705_']]\n",
    "full_X = full_df.drop(columns=['max_re705_'])\n",
    "\n",
    "# Split data into training and testing samples \n",
    "X_train, X_test, y_train, y_test = train_test_split(X, y, test_size=0.2, random_state=1)\n",
    "y_train = y_train.values.ravel()\n",
    "y_test = y_test.values.ravel()\n",
    "\n",
    "# Define function to compute R2\n",
    "def scoreR2(predictor, X, true_y):\n",
    "    predictions = predictor.predict(X)\n",
    "    return r2_score(true_y, predictions)\n"
   ]
  },
  {
   "cell_type": "code",
   "execution_count": 3,
   "metadata": {},
   "outputs": [],
   "source": [
    "# Define a function to plot out of sample predictions vs true values colored by year \n",
    "def scatter_out_of_sample(model):\n",
    "    validate_year_2018 = X_test[['year_2018']].reset_index().drop(columns=['id'])\n",
    "    predictions = model.predict(X_test)\n",
    "    predictions = pd.DataFrame(predictions)\n",
    "    predictions.rename(columns={0: 'prediction'}, inplace=True)\n",
    "    predictions = predictions.join(pd.DataFrame(y_test).rename(columns={0: 'max_re705_'}))\n",
    "    predictions = predictions.join(validate_year_2018)\n",
    "\n",
    "    year_2018 = [0, 1]\n",
    "    z = [1, 2]\n",
    "    hot = plt.get_cmap('hot')\n",
    "    cNorm = colors.Normalize(vmin=0, vmax=2)\n",
    "    scalarMap = cmx.ScalarMappable(norm=cNorm, cmap=hot)\n",
    "\n",
    "    x = predictions['prediction']\n",
    "    y = predictions['max_re705_']\n",
    "    \n",
    "    fig, ax = plt.subplots()\n",
    "\n",
    "    for i in [0, 1]:\n",
    "        label = 2017 + i\n",
    "        indx = predictions['year_2018'] == i\n",
    "        plt.scatter(x[indx], y[indx], s=15, color=scalarMap.to_rgba(i), label=label)\n",
    "    \n",
    "    _x = np.linspace(*ax.get_xlim())\n",
    "    ax.plot(_x, _x)\n",
    "\n",
    "    plt.title('Predicted vs actual productivity, N = {}, R^2 = {}'.format(len(y_test), '%.2f'%scoreR2(model, X_test, y_test)))\n",
    "    plt.xlabel(\"Out of sample prediction\")\n",
    "    plt.ylabel(\"max_re705\")\n",
    "    plt.legend(loc='upper left')\n",
    "    plt.show()"
   ]
  },
  {
   "cell_type": "markdown",
   "metadata": {},
   "source": [
    "## Elastic net"
   ]
  },
  {
   "cell_type": "code",
   "execution_count": 4,
   "metadata": {},
   "outputs": [
    {
     "name": "stdout",
     "output_type": "stream",
     "text": [
      "Optimal alpha: 0.00031814\n",
      "Optimal l1_ratio: 1.000\n",
      "Number of iterations 10\n",
      "Training R^2: 0.27625275210910116\n",
      "Out of sample R^2: 0.25904678891224\n"
     ]
    }
   ],
   "source": [
    "e_net_cv = ElasticNetCV(l1_ratio=[.1, .5, .7, .9, .95, .99, .995, 1], eps=0.001, n_alphas=100, fit_intercept=True, \n",
    "                        normalize=True, precompute='auto', max_iter=10000, tol=0.0001, cv=5, \n",
    "                        copy_X=True, verbose=0, n_jobs=2, selection='cyclic')\n",
    "\n",
    "e_net_cv.fit(X_train, y_train)\n",
    "\n",
    "print('Optimal alpha: %.8f'%e_net_cv.alpha_)\n",
    "print('Optimal l1_ratio: %.3f'%e_net_cv.l1_ratio_)\n",
    "print('Number of iterations %d'%e_net_cv.n_iter_)\n",
    "\n",
    "e_net = ElasticNet(l1_ratio=e_net_cv.l1_ratio_, alpha = e_net_cv.alpha_, \n",
    "                        max_iter=e_net_cv.n_iter_, fit_intercept=True, normalize = True)\n",
    "e_net.fit(X_train, y_train)\n",
    "\n",
    "print(\"Training R^2: {}\".format(scoreR2(e_net, X_train, y_train)))\n",
    "print(\"Out of sample R^2: {}\".format(scoreR2(e_net, X_test, y_test)))"
   ]
  },
  {
   "cell_type": "markdown",
   "metadata": {},
   "source": [
    "### Feature importance"
   ]
  },
  {
   "cell_type": "code",
   "execution_count": 5,
   "metadata": {},
   "outputs": [
    {
     "data": {
      "text/plain": [
       "<matplotlib.axes._subplots.AxesSubplot at 0x7f24d403c0f0>"
      ]
     },
     "execution_count": 5,
     "metadata": {},
     "output_type": "execute_result"
    },
    {
     "data": {
      "image/png": "[encoded data removed]",
      "text/plain": [
       "<Figure size 1296x432 with 1 Axes>"
      ]
     },
     "metadata": {
      "needs_background": "light"
     },
     "output_type": "display_data"
    }
   ],
   "source": [
    "feature_importance = pd.Series(index = X_train.columns, data = np.abs(e_net.coef_))\n",
    "feature_importance.sort_values().tail(10).plot(kind = 'bar', figsize = (18,6))"
   ]
  },
  {
   "cell_type": "markdown",
   "metadata": {},
   "source": [
    "### Scatter plot: predicted vs true value out of sample "
   ]
  },
  {
   "cell_type": "code",
   "execution_count": 6,
   "metadata": {
    "scrolled": false
   },
   "outputs": [
    {
     "data": {
      "image/png": "[encoded data removed]",
      "text/plain": [
       "<Figure size 432x288 with 1 Axes>"
      ]
     },
     "metadata": {
      "needs_background": "light"
     },
     "output_type": "display_data"
    }
   ],
   "source": [
    "scatter_out_of_sample(e_net)"
   ]
  },
  {
   "cell_type": "markdown",
   "metadata": {},
   "source": [
    "### Save predictions "
   ]
  },
  {
   "cell_type": "code",
   "execution_count": 7,
   "metadata": {
    "scrolled": false
   },
   "outputs": [
    {
     "name": "stdout",
     "output_type": "stream",
     "text": [
      "                 willingness_to_experiment  tractor_own  plough_own  \\\n",
      "id                                                                    \n",
      "B01V01F00012017                        2.0          0.0         0.0   \n",
      "B01V01F00012018                        2.0          0.0         0.0   \n",
      "B01V01F00022017                        2.0          0.0         0.0   \n",
      "B01V01F00022018                        2.0          0.0         0.0   \n",
      "B01V01F00042017                        3.0          0.0         0.0   \n",
      "\n",
      "                 crop_insurance  ph_value  ec_value  nitrogen_value  \\\n",
      "id                                                                    \n",
      "B01V01F00012017             1.0      7.16      1.36           362.0   \n",
      "B01V01F00012018             1.0      7.16      1.36           362.0   \n",
      "B01V01F00022017             1.0      7.87      0.74           334.0   \n",
      "B01V01F00022018             1.0      7.87      0.74           334.0   \n",
      "B01V01F00042017             0.0      7.85      0.56           201.0   \n",
      "\n",
      "                 phosphorous_value  potash_value  soil_test_zinc_value  ...  \\\n",
      "id                                                                      ...   \n",
      "B01V01F00012017              20.52         644.0                  0.86  ...   \n",
      "B01V01F00012018              20.52         644.0                  0.86  ...   \n",
      "B01V01F00022017              20.52         488.0                  1.20  ...   \n",
      "B01V01F00022018              20.52         488.0                  1.20  ...   \n",
      "B01V01F00042017              17.44         616.0                  0.60  ...   \n",
      "\n",
      "                 rain_june_  rain_july_  rain_august_  rain_september_  \\\n",
      "id                                                                       \n",
      "B01V01F00012017    4.580445    18.23403      5.521373         1.843768   \n",
      "B01V01F00012018    4.580445    18.23403      5.521373         1.843768   \n",
      "B01V01F00022017    4.580445    18.23403      5.521373         1.843768   \n",
      "B01V01F00022018    4.580445    18.23403      5.521373         1.843768   \n",
      "B01V01F00042017    4.580445    18.23403      5.521373         1.843768   \n",
      "\n",
      "                 rain_october_  irrigation_  knowledge_  sow_time  lag_re705_  \\\n",
      "id                                                                              \n",
      "B01V01F00012017       0.274424          1.0    2.085405      66.0    0.227357   \n",
      "B01V01F00012018       0.274424          1.0   -0.167194      66.0    0.291366   \n",
      "B01V01F00022017       0.274424          1.0    0.544188      32.0    0.422249   \n",
      "B01V01F00022018       0.274424          1.0   -0.660815      32.0    0.448436   \n",
      "B01V01F00042017       0.274424          1.0    2.085405      46.0    0.378115   \n",
      "\n",
      "                 year_2018  \n",
      "id                          \n",
      "B01V01F00012017        0.0  \n",
      "B01V01F00012018        1.0  \n",
      "B01V01F00022017        0.0  \n",
      "B01V01F00022018        1.0  \n",
      "B01V01F00042017        0.0  \n",
      "\n",
      "[5 rows x 26 columns]\n",
      "                         uid  year  treatment  yield_hectare_2017  \\\n",
      "id                                                                  \n",
      "B01V01F00012017  B01V01F0001  2017          0           797.59241   \n",
      "B01V01F00012018  B01V01F0001  2018          0           797.59241   \n",
      "B01V01F00022017  B01V01F0002  2017          0          2396.62520   \n",
      "B01V01F00022018  B01V01F0002  2018          0          2396.62520   \n",
      "B01V01F00042017  B01V01F0004  2017          1          1758.19520   \n",
      "\n",
      "                 sat_yield_2017  max_re705_2016  max_re705_2017  e_net_re705  \n",
      "id                                                                            \n",
      "B01V01F00012017       1566.7423        0.227357        0.291366     0.370383  \n",
      "B01V01F00012018       1566.7423        0.227357        0.291366     0.381528  \n",
      "B01V01F00022017       2100.2913        0.422249        0.448436     0.399262  \n",
      "B01V01F00022018       2100.2913        0.422249        0.448436     0.403822  \n",
      "B01V01F00042017       2053.3210        0.378115        0.434609     0.395725  \n"
     ]
    }
   ],
   "source": [
    "print(full_X.head())\n",
    "full_sample_predictions = e_net.predict(full_X)\n",
    "predictions_df = pd.DataFrame(index=full_X.index)\n",
    "predictions_df['e_net_re705'] = full_sample_predictions\n",
    "results = results.join(predictions_df)\n",
    "print(results.head())"
   ]
  },
  {
   "cell_type": "markdown",
   "metadata": {},
   "source": [
    "## Random forest"
   ]
  },
  {
   "cell_type": "code",
   "execution_count": 8,
   "metadata": {},
   "outputs": [
    {
     "name": "stdout",
     "output_type": "stream",
     "text": [
      "Training R^2: 0.85955636179329\n",
      "Out of sample R^2: 0.43987558057536136\n"
     ]
    }
   ],
   "source": [
    "#Use hyperparameters selected via gridsearchcv in the original yield prediction notebook\n",
    "hyperparameters = {'bootstrap': True, 'max_depth': 15, 'max_features': 'sqrt', \n",
    " 'min_samples_leaf': 2, 'min_samples_split': 2, 'n_estimators': 1000}\n",
    "\n",
    "rf = RandomForestRegressor(**hyperparameters)\n",
    "rf.fit(X_train, y_train)\n",
    "\n",
    "print(\"Training R^2: {}\".format(scoreR2(rf, X_train, y_train)))\n",
    "print(\"Out of sample R^2: {}\".format(scoreR2(rf, X_test, y_test)))"
   ]
  },
  {
   "cell_type": "markdown",
   "metadata": {},
   "source": [
    "### Feature importances "
   ]
  },
  {
   "cell_type": "code",
   "execution_count": 9,
   "metadata": {},
   "outputs": [
    {
     "name": "stdout",
     "output_type": "stream",
     "text": [
      "                      importance\n",
      "lag_re705_              0.099510\n",
      "rain_september_         0.084545\n",
      "urea_                   0.080211\n",
      "rain_july_              0.072002\n",
      "rain_june_              0.064364\n",
      "rain_october_           0.063109\n",
      "potash_value            0.061959\n",
      "irrigation_             0.053308\n",
      "rain_august_            0.047662\n",
      "ec_value                0.040589\n",
      "nitrogen_value          0.040436\n",
      "phosphorous_value       0.035768\n",
      "sulphur_value           0.035077\n",
      "ph_value                0.034990\n",
      "sow_time                0.033807\n",
      "dap_                    0.033765\n",
      "iron_value              0.033510\n",
      "soil_test_zinc_value    0.033302\n",
      "knowledge_              0.017077\n",
      "year_2018               0.008091\n"
     ]
    }
   ],
   "source": [
    "feature_importances = pd.DataFrame(rf.feature_importances_, index=X_train.columns, \n",
    "                                   columns=['importance']).sort_values('importance',ascending=False)\n",
    "print(feature_importances.head(20))"
   ]
  },
  {
   "cell_type": "markdown",
   "metadata": {},
   "source": [
    "### Scatter plot: predicted vs true value out of sample "
   ]
  },
  {
   "cell_type": "code",
   "execution_count": 10,
   "metadata": {},
   "outputs": [
    {
     "data": {
      "image/png": "[encoded data removed]",
      "text/plain": [
       "<Figure size 432x288 with 1 Axes>"
      ]
     },
     "metadata": {
      "needs_background": "light"
     },
     "output_type": "display_data"
    }
   ],
   "source": [
    "scatter_out_of_sample(rf)"
   ]
  },
  {
   "cell_type": "markdown",
   "metadata": {},
   "source": [
    "### Save predictions "
   ]
  },
  {
   "cell_type": "code",
   "execution_count": 11,
   "metadata": {},
   "outputs": [
    {
     "name": "stdout",
     "output_type": "stream",
     "text": [
      "                         uid  year  treatment  yield_hectare_2017  \\\n",
      "id                                                                  \n",
      "B01V01F00012017  B01V01F0001  2017          0           797.59241   \n",
      "B01V01F00012018  B01V01F0001  2018          0           797.59241   \n",
      "B01V01F00022017  B01V01F0002  2017          0          2396.62520   \n",
      "B01V01F00022018  B01V01F0002  2018          0          2396.62520   \n",
      "B01V01F00042017  B01V01F0004  2017          1          1758.19520   \n",
      "\n",
      "                 sat_yield_2017  max_re705_2016  max_re705_2017  e_net_re705  \\\n",
      "id                                                                             \n",
      "B01V01F00012017       1566.7423        0.227357        0.291366     0.370383   \n",
      "B01V01F00012018       1566.7423        0.227357        0.291366     0.381528   \n",
      "B01V01F00022017       2100.2913        0.422249        0.448436     0.399262   \n",
      "B01V01F00022018       2100.2913        0.422249        0.448436     0.403822   \n",
      "B01V01F00042017       2053.3210        0.378115        0.434609     0.395725   \n",
      "\n",
      "                 rf_re705  \n",
      "id                         \n",
      "B01V01F00012017  0.345897  \n",
      "B01V01F00012018  0.369649  \n",
      "B01V01F00022017  0.419498  \n",
      "B01V01F00022018  0.401183  \n",
      "B01V01F00042017  0.393702  \n"
     ]
    }
   ],
   "source": [
    "full_sample_predictions = rf.predict(full_X)\n",
    "predictions_df = pd.DataFrame(index=full_X.index)\n",
    "predictions_df['rf_re705'] = full_sample_predictions\n",
    "results = results.join(predictions_df)\n",
    "print(results.head())"
   ]
  },
  {
   "cell_type": "markdown",
   "metadata": {},
   "source": [
    "## Neural net"
   ]
  },
  {
   "cell_type": "code",
   "execution_count": 12,
   "metadata": {},
   "outputs": [
    {
     "name": "stdout",
     "output_type": "stream",
     "text": [
      "Training R^2: 0.7204044122468615\n",
      "Out of sample R^2: 0.16745646961142924\n"
     ]
    }
   ],
   "source": [
    "scaler = StandardScaler().fit(X_train)\n",
    "X_train_sc = scaler.transform(X_train)\n",
    "X_test_sc = scaler.transform(X_test)\n",
    "\n",
    "nn = MLPRegressor(\n",
    "    hidden_layer_sizes=(250,250,250,250,), activation='relu',\n",
    "    early_stopping=True, learning_rate='adaptive', \n",
    "    max_iter=5000, learning_rate_init=0.001, random_state=7)\n",
    "\n",
    "nn.fit(X_train_sc, y_train)\n",
    "print(\"Training R^2: {}\".format(scoreR2(nn, X_train_sc, y_train)))\n",
    "print(\"Out of sample R^2: {}\".format(scoreR2(nn, X_test_sc, y_test)))"
   ]
  },
  {
   "cell_type": "markdown",
   "metadata": {},
   "source": [
    "### Scatter plot: predicted vs true value out of sample"
   ]
  },
  {
   "cell_type": "code",
   "execution_count": 13,
   "metadata": {},
   "outputs": [
    {
     "data": {
      "image/png": "[encoded data removed]",
      "text/plain": [
       "<Figure size 432x288 with 1 Axes>"
      ]
     },
     "metadata": {
      "needs_background": "light"
     },
     "output_type": "display_data"
    }
   ],
   "source": [
    "validate_year_2018 = X_test[['year_2018']].reset_index().drop(columns=['id'])\n",
    "predictions = nn.predict(X_test_sc)\n",
    "predictions = pd.DataFrame(predictions)\n",
    "predictions.rename(columns={0: 'prediction'}, inplace=True)\n",
    "predictions = predictions.join(pd.DataFrame(y_test).rename(columns={0: 'max_re705_'}))\n",
    "predictions = predictions.join(validate_year_2018)\n",
    "\n",
    "year_2018 = [0, 1]\n",
    "z = [1, 2]\n",
    "hot = plt.get_cmap('hot')\n",
    "cNorm = colors.Normalize(vmin=0, vmax=2)\n",
    "scalarMap = cmx.ScalarMappable(norm=cNorm, cmap=hot)\n",
    "\n",
    "x = predictions['prediction']\n",
    "y = predictions['max_re705_']\n",
    "\n",
    "fig, ax = plt.subplots()\n",
    "\n",
    "for i in [0, 1]:\n",
    "    label = 2017 + i\n",
    "    indx = predictions['year_2018'] == i\n",
    "    plt.scatter(x[indx], y[indx], s=15, color=scalarMap.to_rgba(i), label=label)\n",
    "\n",
    "_x = np.linspace(*ax.get_xlim())\n",
    "ax.plot(_x, _x)\n",
    "\n",
    "plt.title('Predicted vs actual productivity, N = {}, R^2 = {}'.format(len(y_test), '%.2f'%scoreR2(nn, X_test_sc, y_test)))\n",
    "plt.xlabel(\"Out of sample prediction\")\n",
    "plt.ylabel(\"max_re705\")\n",
    "plt.legend(loc='upper left')\n",
    "plt.show()"
   ]
  },
  {
   "cell_type": "markdown",
   "metadata": {},
   "source": [
    "### Save predictions"
   ]
  },
  {
   "cell_type": "code",
   "execution_count": 14,
   "metadata": {
    "scrolled": false
   },
   "outputs": [
    {
     "name": "stdout",
     "output_type": "stream",
     "text": [
      "                         uid  year  treatment  yield_hectare_2017  \\\n",
      "id                                                                  \n",
      "B01V01F00012017  B01V01F0001  2017          0           797.59241   \n",
      "B01V01F00012018  B01V01F0001  2018          0           797.59241   \n",
      "B01V01F00022017  B01V01F0002  2017          0          2396.62520   \n",
      "B01V01F00022018  B01V01F0002  2018          0          2396.62520   \n",
      "B01V01F00042017  B01V01F0004  2017          1          1758.19520   \n",
      "\n",
      "                 sat_yield_2017  max_re705_2016  max_re705_2017  e_net_re705  \\\n",
      "id                                                                             \n",
      "B01V01F00012017       1566.7423        0.227357        0.291366     0.370383   \n",
      "B01V01F00012018       1566.7423        0.227357        0.291366     0.381528   \n",
      "B01V01F00022017       2100.2913        0.422249        0.448436     0.399262   \n",
      "B01V01F00022018       2100.2913        0.422249        0.448436     0.403822   \n",
      "B01V01F00042017       2053.3210        0.378115        0.434609     0.395725   \n",
      "\n",
      "                 rf_re705  nn_re705  \n",
      "id                                   \n",
      "B01V01F00012017  0.345897  0.446070  \n",
      "B01V01F00012018  0.369649  0.395487  \n",
      "B01V01F00022017  0.419498  0.402174  \n",
      "B01V01F00022018  0.401183  0.361928  \n",
      "B01V01F00042017  0.393702  0.462966  \n"
     ]
    }
   ],
   "source": [
    "full_X_sc = scaler.transform(full_X)\n",
    "full_sample_predictions = nn.predict(full_X_sc)\n",
    "predictions_df = pd.DataFrame(index=full_X.index)\n",
    "predictions_df['nn_re705'] = full_sample_predictions\n",
    "results = results.join(predictions_df)\n",
    "print(results.head())"
   ]
  },
  {
   "cell_type": "markdown",
   "metadata": {},
   "source": [
    "# Satellite measured yields"
   ]
  },
  {
   "cell_type": "markdown",
   "metadata": {},
   "source": [
    "Second, examine satellite yield measurements. These are just affine transformations of the reNDVI values examined above. However, the transformations are separately estimated from farmer-reported yields in 2017 and 2018, so they may be less consistent across years. "
   ]
  },
  {
   "cell_type": "markdown",
   "metadata": {},
   "source": [
    "## Data preparation and imports"
   ]
  },
  {
   "cell_type": "code",
   "execution_count": 15,
   "metadata": {},
   "outputs": [],
   "source": [
    "raw_df = pd.read_csv('../data/nosync/yield_prediction.csv')\n",
    "raw_df.set_index('id', inplace=True)\n",
    "\n",
    "raw_df.drop(columns = ['max_re705_', 'yield_hectare_'], inplace=True) \n",
    "\n",
    "raw_df.dropna(subset=['satellite_yield_'], inplace=True)\n",
    "\n",
    "# Imput missing DVs to the median \n",
    "fill_NaN = SimpleImputer(strategy='median')\n",
    "df = pd.DataFrame(fill_NaN.fit_transform(raw_df))\n",
    "df.columns = raw_df.columns\n",
    "df.index = raw_df.index\n",
    "\n",
    "# Copy dataframe, then remove 2018 treatment \n",
    "# Full DF is what we later generate final predictions off of, so we replace 2018 rainfall with 2017 values\n",
    "full_df = df.copy(deep=True)\n",
    "df.drop(df.loc[raw_df['treatment']==1].index, inplace=True) \n",
    "df.drop(columns=['treatment'], inplace=True)\n",
    "full_df.drop(columns=['treatment'], inplace=True)\n",
    "full_df['uid'] = full_df.index.str[:-4]\n",
    "full_df['year'] = pd.to_numeric(full_df.index.str[-4:])\n",
    "full_df.loc[full_df['year'] == 2018, 'rain_june_'] = None \n",
    "full_df['rain_june_'] = full_df.groupby(['uid'])['rain_june_'].ffill()\n",
    "full_df.loc[full_df['year'] == 2018, 'rain_july_'] = None \n",
    "full_df['rain_july_'] = full_df.groupby(['uid'])['rain_july_'].ffill()\n",
    "full_df.loc[full_df['year'] == 2018, 'rain_august_'] = None \n",
    "full_df['rain_august_'] = full_df.groupby(['uid'])['rain_august_'].ffill()\n",
    "full_df.loc[full_df['year'] == 2018, 'rain_september_'] = None \n",
    "full_df['rain_september_'] = full_df.groupby(['uid'])['rain_september_'].ffill()\n",
    "full_df.loc[full_df['year'] == 2018, 'rain_october_'] = None \n",
    "full_df['rain_october_'] = full_df.groupby(['uid'])['rain_october_'].ffill()\n",
    "full_df.drop(columns=['uid', 'year'], inplace=True)\n",
    "# Since we don't have 2017 data for some plots, there will be missing rainfall. Drop these.\n",
    "full_df.dropna(subset=['rain_june_'], inplace=True)\n",
    "\n",
    "# Separate IVs and DVs\n",
    "y = df[['satellite_yield_']]\n",
    "X = df.drop(columns=['satellite_yield_'])\n",
    "full_y = full_df[['satellite_yield_']]\n",
    "full_X = full_df.drop(columns=['satellite_yield_'])\n",
    "\n",
    "# Split data into training and testing samples \n",
    "X_train, X_test, y_train, y_test = train_test_split(X, y, test_size=0.2, random_state=1)\n",
    "y_train = y_train.values.ravel()\n",
    "y_test = y_test.values.ravel()\n",
    "\n",
    "# Define function to compute R2\n",
    "def scoreR2(predictor, X, true_y):\n",
    "    predictions = predictor.predict(X)\n",
    "    return r2_score(true_y, predictions)\n"
   ]
  },
  {
   "cell_type": "code",
   "execution_count": 16,
   "metadata": {},
   "outputs": [],
   "source": [
    "# Define a function to plot out of sample predictions vs true values colored by year \n",
    "def scatter_out_of_sample(model):\n",
    "    validate_year_2018 = X_test[['year_2018']].reset_index().drop(columns=['id'])\n",
    "    predictions = model.predict(X_test)\n",
    "    predictions = pd.DataFrame(predictions)\n",
    "    predictions.rename(columns={0: 'prediction'}, inplace=True)\n",
    "    predictions = predictions.join(pd.DataFrame(y_test).rename(columns={0: 'satellite_yield_'}))\n",
    "    predictions = predictions.join(validate_year_2018)\n",
    "\n",
    "    year_2018 = [0, 1]\n",
    "    z = [1, 2]\n",
    "    hot = plt.get_cmap('hot')\n",
    "    cNorm = colors.Normalize(vmin=0, vmax=2)\n",
    "    scalarMap = cmx.ScalarMappable(norm=cNorm, cmap=hot)\n",
    "\n",
    "    x = predictions['prediction']\n",
    "    y = predictions['satellite_yield_']\n",
    "    \n",
    "    fig, ax = plt.subplots()\n",
    "\n",
    "    for i in [0, 1]:\n",
    "        label = 2017 + i\n",
    "        indx = predictions['year_2018'] == i\n",
    "        plt.scatter(x[indx], y[indx], s=15, color=scalarMap.to_rgba(i), label=label)\n",
    "    \n",
    "    _x = np.linspace(*ax.get_xlim())\n",
    "    ax.plot(_x, _x)\n",
    "\n",
    "    plt.title('Predicted vs actual productivity, N = {}, R^2 = {}'.format(len(y_test), '%.2f'%scoreR2(model, X_test, y_test)))\n",
    "    plt.xlabel(\"Out of sample prediction\")\n",
    "    plt.ylabel(\"satellite_yield_\")\n",
    "    plt.legend(loc='upper left')\n",
    "    plt.show()"
   ]
  },
  {
   "cell_type": "markdown",
   "metadata": {},
   "source": [
    "## Elastic net"
   ]
  },
  {
   "cell_type": "code",
   "execution_count": 17,
   "metadata": {},
   "outputs": [
    {
     "name": "stdout",
     "output_type": "stream",
     "text": [
      "Optimal alpha: 1.14446638\n",
      "Optimal l1_ratio: 1.000\n",
      "Number of iterations 29\n",
      "Training R^2: 0.6308120441632172\n",
      "Out of sample R^2: 0.6123473197403733\n"
     ]
    }
   ],
   "source": [
    "e_net_cv = ElasticNetCV(l1_ratio=[.1, .5, .7, .9, .95, .99, .995, 1], eps=0.001, n_alphas=100, fit_intercept=True, \n",
    "                        normalize=True, precompute='auto', max_iter=10000, tol=0.0001, cv=5, \n",
    "                        copy_X=True, verbose=0, n_jobs=2, selection='cyclic')\n",
    "\n",
    "e_net_cv.fit(X_train, y_train)\n",
    "\n",
    "print('Optimal alpha: %.8f'%e_net_cv.alpha_)\n",
    "print('Optimal l1_ratio: %.3f'%e_net_cv.l1_ratio_)\n",
    "print('Number of iterations %d'%e_net_cv.n_iter_)\n",
    "\n",
    "e_net = ElasticNet(l1_ratio=e_net_cv.l1_ratio_, alpha = e_net_cv.alpha_, \n",
    "                        max_iter=e_net_cv.n_iter_, fit_intercept=True, normalize = True)\n",
    "e_net.fit(X_train, y_train)\n",
    "\n",
    "print(\"Training R^2: {}\".format(scoreR2(e_net, X_train, y_train)))\n",
    "print(\"Out of sample R^2: {}\".format(scoreR2(e_net, X_test, y_test)))"
   ]
  },
  {
   "cell_type": "markdown",
   "metadata": {},
   "source": [
    "### Feature importance"
   ]
  },
  {
   "cell_type": "code",
   "execution_count": 18,
   "metadata": {},
   "outputs": [
    {
     "data": {
      "text/plain": [
       "<matplotlib.axes._subplots.AxesSubplot at 0x7f24cc575e80>"
      ]
     },
     "execution_count": 18,
     "metadata": {},
     "output_type": "execute_result"
    },
    {
     "data": {
      "image/png": "[encoded data removed]",
      "text/plain": [
       "<Figure size 1296x432 with 1 Axes>"
      ]
     },
     "metadata": {
      "needs_background": "light"
     },
     "output_type": "display_data"
    }
   ],
   "source": [
    "feature_importance = pd.Series(index = X_train.columns, data = np.abs(e_net.coef_))\n",
    "feature_importance.sort_values().tail(10).plot(kind = 'bar', figsize = (18,6))"
   ]
  },
  {
   "cell_type": "markdown",
   "metadata": {},
   "source": [
    "### Scatter plot: predicted vs true value out of sample "
   ]
  },
  {
   "cell_type": "code",
   "execution_count": 19,
   "metadata": {
    "scrolled": false
   },
   "outputs": [
    {
     "data": {
      "image/png": "[encoded data removed]",
      "text/plain": [
       "<Figure size 432x288 with 1 Axes>"
      ]
     },
     "metadata": {
      "needs_background": "light"
     },
     "output_type": "display_data"
    }
   ],
   "source": [
    "scatter_out_of_sample(e_net)"
   ]
  },
  {
   "cell_type": "markdown",
   "metadata": {},
   "source": [
    "### Save predictions "
   ]
  },
  {
   "cell_type": "code",
   "execution_count": 20,
   "metadata": {
    "scrolled": false
   },
   "outputs": [
    {
     "name": "stdout",
     "output_type": "stream",
     "text": [
      "                         uid  year  treatment  yield_hectare_2017  \\\n",
      "id                                                                  \n",
      "B01V01F00012017  B01V01F0001  2017          0           797.59241   \n",
      "B01V01F00012018  B01V01F0001  2018          0           797.59241   \n",
      "B01V01F00022017  B01V01F0002  2017          0          2396.62520   \n",
      "B01V01F00022018  B01V01F0002  2018          0          2396.62520   \n",
      "B01V01F00042017  B01V01F0004  2017          1          1758.19520   \n",
      "\n",
      "                 sat_yield_2017  max_re705_2016  max_re705_2017  e_net_re705  \\\n",
      "id                                                                             \n",
      "B01V01F00012017       1566.7423        0.227357        0.291366     0.370383   \n",
      "B01V01F00012018       1566.7423        0.227357        0.291366     0.381528   \n",
      "B01V01F00022017       2100.2913        0.422249        0.448436     0.399262   \n",
      "B01V01F00022018       2100.2913        0.422249        0.448436     0.403822   \n",
      "B01V01F00042017       2053.3210        0.378115        0.434609     0.395725   \n",
      "\n",
      "                 rf_re705  nn_re705  e_net_satellite_yield  \n",
      "id                                                          \n",
      "B01V01F00012017  0.345897  0.446070            1786.354899  \n",
      "B01V01F00012018  0.369649  0.395487            1822.820793  \n",
      "B01V01F00022017  0.419498  0.402174            1892.586154  \n",
      "B01V01F00022018  0.401183  0.361928            1905.322977  \n",
      "B01V01F00042017  0.393702  0.462966            1873.299400  \n"
     ]
    }
   ],
   "source": [
    "full_sample_predictions = e_net.predict(full_X)\n",
    "predictions_df = pd.DataFrame(index=full_X.index)\n",
    "predictions_df['e_net_satellite_yield'] = full_sample_predictions\n",
    "results = results.join(predictions_df)\n",
    "print(results.head())"
   ]
  },
  {
   "cell_type": "markdown",
   "metadata": {},
   "source": [
    "## Random forest"
   ]
  },
  {
   "cell_type": "code",
   "execution_count": 21,
   "metadata": {},
   "outputs": [
    {
     "name": "stdout",
     "output_type": "stream",
     "text": [
      "Training R^2: 0.8965261087696981\n",
      "Out of sample R^2: 0.7027317358383707\n"
     ]
    }
   ],
   "source": [
    "#Use hyperparameters selected via gridsearchcv in the original yield prediction notebook\n",
    "hyperparameters = {'bootstrap': True, 'max_depth': 15, 'max_features': 'sqrt', 'min_samples_leaf': 3, \n",
    "                   'min_samples_split': 3, 'n_estimators': 2000}\n",
    "\n",
    "rf = RandomForestRegressor(**hyperparameters)\n",
    "rf.fit(X_train, y_train)\n",
    "\n",
    "print(\"Training R^2: {}\".format(scoreR2(rf, X_train, y_train)))\n",
    "print(\"Out of sample R^2: {}\".format(scoreR2(rf, X_test, y_test)))"
   ]
  },
  {
   "cell_type": "markdown",
   "metadata": {},
   "source": [
    "### Feature importances "
   ]
  },
  {
   "cell_type": "code",
   "execution_count": 22,
   "metadata": {},
   "outputs": [
    {
     "name": "stdout",
     "output_type": "stream",
     "text": [
      "                      importance\n",
      "rain_july_              0.144432\n",
      "rain_june_              0.126080\n",
      "rain_august_            0.117246\n",
      "rain_september_         0.116116\n",
      "year_2018               0.090250\n",
      "rain_october_           0.085371\n",
      "lag_re705_              0.046770\n",
      "urea_                   0.044964\n",
      "irrigation_             0.036952\n",
      "potash_value            0.028475\n",
      "ec_value                0.018333\n",
      "dap_                    0.018057\n",
      "nitrogen_value          0.017449\n",
      "phosphorous_value       0.015963\n",
      "sulphur_value           0.015593\n",
      "sow_time                0.015250\n",
      "ph_value                0.014809\n",
      "soil_test_zinc_value    0.014363\n",
      "iron_value              0.013792\n",
      "knowledge_              0.007896\n"
     ]
    }
   ],
   "source": [
    "feature_importances = pd.DataFrame(rf.feature_importances_, index=X_train.columns, \n",
    "                                   columns=['importance']).sort_values('importance',ascending=False)\n",
    "print(feature_importances.head(20))"
   ]
  },
  {
   "cell_type": "markdown",
   "metadata": {},
   "source": [
    "### Scatter plot: predicted vs true value out of sample "
   ]
  },
  {
   "cell_type": "code",
   "execution_count": 23,
   "metadata": {},
   "outputs": [
    {
     "data": {
      "image/png": "[encoded data removed]",
      "text/plain": [
       "<Figure size 432x288 with 1 Axes>"
      ]
     },
     "metadata": {
      "needs_background": "light"
     },
     "output_type": "display_data"
    }
   ],
   "source": [
    "scatter_out_of_sample(rf)"
   ]
  },
  {
   "cell_type": "markdown",
   "metadata": {},
   "source": [
    "### Save predictions "
   ]
  },
  {
   "cell_type": "code",
   "execution_count": 24,
   "metadata": {},
   "outputs": [
    {
     "name": "stdout",
     "output_type": "stream",
     "text": [
      "                         uid  year  treatment  yield_hectare_2017  \\\n",
      "id                                                                  \n",
      "B01V01F00012017  B01V01F0001  2017          0           797.59241   \n",
      "B01V01F00012018  B01V01F0001  2018          0           797.59241   \n",
      "B01V01F00022017  B01V01F0002  2017          0          2396.62520   \n",
      "B01V01F00022018  B01V01F0002  2018          0          2396.62520   \n",
      "B01V01F00042017  B01V01F0004  2017          1          1758.19520   \n",
      "\n",
      "                 sat_yield_2017  max_re705_2016  max_re705_2017  e_net_re705  \\\n",
      "id                                                                             \n",
      "B01V01F00012017       1566.7423        0.227357        0.291366     0.370383   \n",
      "B01V01F00012018       1566.7423        0.227357        0.291366     0.381528   \n",
      "B01V01F00022017       2100.2913        0.422249        0.448436     0.399262   \n",
      "B01V01F00022018       2100.2913        0.422249        0.448436     0.403822   \n",
      "B01V01F00042017       2053.3210        0.378115        0.434609     0.395725   \n",
      "\n",
      "                 rf_re705  nn_re705  e_net_satellite_yield  rf_satellite_yield  \n",
      "id                                                                              \n",
      "B01V01F00012017  0.345897  0.446070            1786.354899         1799.660667  \n",
      "B01V01F00012018  0.369649  0.395487            1822.820793         1742.543060  \n",
      "B01V01F00022017  0.419498  0.402174            1892.586154         1995.386292  \n",
      "B01V01F00022018  0.401183  0.361928            1905.322977         1826.153239  \n",
      "B01V01F00042017  0.393702  0.462966            1873.299400         1933.667504  \n"
     ]
    }
   ],
   "source": [
    "full_sample_predictions = rf.predict(full_X)\n",
    "predictions_df = pd.DataFrame(index=full_X.index)\n",
    "predictions_df['rf_satellite_yield'] = full_sample_predictions\n",
    "results = results.join(predictions_df)\n",
    "print(results.head())"
   ]
  },
  {
   "cell_type": "markdown",
   "metadata": {},
   "source": [
    "## Neural net"
   ]
  },
  {
   "cell_type": "code",
   "execution_count": 25,
   "metadata": {},
   "outputs": [
    {
     "name": "stdout",
     "output_type": "stream",
     "text": [
      "Training R^2: 0.683176763424062\n",
      "Out of sample R^2: 0.5895540066117599\n"
     ]
    }
   ],
   "source": [
    "scaler = StandardScaler().fit(X_train)\n",
    "X_train_sc = scaler.transform(X_train)\n",
    "X_test_sc = scaler.transform(X_test)\n",
    "\n",
    "nn = MLPRegressor(\n",
    "    hidden_layer_sizes=(250,250,250,250,), activation='relu',\n",
    "    early_stopping=True, learning_rate='adaptive', \n",
    "    max_iter=5000, learning_rate_init=0.001, random_state=7)\n",
    "\n",
    "nn.fit(X_train_sc, y_train)\n",
    "print(\"Training R^2: {}\".format(scoreR2(nn, X_train_sc, y_train)))\n",
    "print(\"Out of sample R^2: {}\".format(scoreR2(nn, X_test_sc, y_test)))"
   ]
  },
  {
   "cell_type": "markdown",
   "metadata": {},
   "source": [
    "### Scatter plot: predicted vs true value out of sample"
   ]
  },
  {
   "cell_type": "code",
   "execution_count": 26,
   "metadata": {},
   "outputs": [
    {
     "data": {
      "image/png": "[encoded data removed]",
      "text/plain": [
       "<Figure size 432x288 with 1 Axes>"
      ]
     },
     "metadata": {
      "needs_background": "light"
     },
     "output_type": "display_data"
    }
   ],
   "source": [
    "validate_year_2018 = X_test[['year_2018']].reset_index().drop(columns=['id'])\n",
    "predictions = nn.predict(X_test_sc)\n",
    "predictions = pd.DataFrame(predictions)\n",
    "predictions.rename(columns={0: 'prediction'}, inplace=True)\n",
    "predictions = predictions.join(pd.DataFrame(y_test).rename(columns={0: 'satellite_yield_'}))\n",
    "predictions = predictions.join(validate_year_2018)\n",
    "\n",
    "year_2018 = [0, 1]\n",
    "z = [1, 2]\n",
    "hot = plt.get_cmap('hot')\n",
    "cNorm = colors.Normalize(vmin=0, vmax=2)\n",
    "scalarMap = cmx.ScalarMappable(norm=cNorm, cmap=hot)\n",
    "\n",
    "x = predictions['prediction']\n",
    "y = predictions['satellite_yield_']\n",
    "\n",
    "fig, ax = plt.subplots()\n",
    "\n",
    "for i in [0, 1]:\n",
    "    label = 2017 + i\n",
    "    indx = predictions['year_2018'] == i\n",
    "    plt.scatter(x[indx], y[indx], s=15, color=scalarMap.to_rgba(i), label=label)\n",
    "\n",
    "_x = np.linspace(*ax.get_xlim())\n",
    "ax.plot(_x, _x)\n",
    "\n",
    "plt.title('Predicted vs actual productivity, N = {}, R^2 = {}'.format(len(y_test), '%.2f'%scoreR2(nn, X_test_sc, y_test)))\n",
    "plt.xlabel(\"Out of sample prediction\")\n",
    "plt.ylabel(\"satellite_yield_\")\n",
    "plt.legend(loc='upper left')\n",
    "plt.show()"
   ]
  },
  {
   "cell_type": "markdown",
   "metadata": {},
   "source": [
    "### Save predictions"
   ]
  },
  {
   "cell_type": "code",
   "execution_count": 27,
   "metadata": {
    "scrolled": false
   },
   "outputs": [
    {
     "name": "stdout",
     "output_type": "stream",
     "text": [
      "                         uid  year  treatment  yield_hectare_2017  \\\n",
      "id                                                                  \n",
      "B01V01F00012017  B01V01F0001  2017          0           797.59241   \n",
      "B01V01F00012018  B01V01F0001  2018          0           797.59241   \n",
      "B01V01F00022017  B01V01F0002  2017          0          2396.62520   \n",
      "B01V01F00022018  B01V01F0002  2018          0          2396.62520   \n",
      "B01V01F00042017  B01V01F0004  2017          1          1758.19520   \n",
      "\n",
      "                 sat_yield_2017  max_re705_2016  max_re705_2017  e_net_re705  \\\n",
      "id                                                                             \n",
      "B01V01F00012017       1566.7423        0.227357        0.291366     0.370383   \n",
      "B01V01F00012018       1566.7423        0.227357        0.291366     0.381528   \n",
      "B01V01F00022017       2100.2913        0.422249        0.448436     0.399262   \n",
      "B01V01F00022018       2100.2913        0.422249        0.448436     0.403822   \n",
      "B01V01F00042017       2053.3210        0.378115        0.434609     0.395725   \n",
      "\n",
      "                 rf_re705  nn_re705  e_net_satellite_yield  \\\n",
      "id                                                           \n",
      "B01V01F00012017  0.345897  0.446070            1786.354899   \n",
      "B01V01F00012018  0.369649  0.395487            1822.820793   \n",
      "B01V01F00022017  0.419498  0.402174            1892.586154   \n",
      "B01V01F00022018  0.401183  0.361928            1905.322977   \n",
      "B01V01F00042017  0.393702  0.462966            1873.299400   \n",
      "\n",
      "                 rf_satellite_yield  nn_satellite_yield  \n",
      "id                                                       \n",
      "B01V01F00012017         1799.660667         1996.299450  \n",
      "B01V01F00012018         1742.543060         1713.707438  \n",
      "B01V01F00022017         1995.386292         1738.602560  \n",
      "B01V01F00022018         1826.153239         1418.074020  \n",
      "B01V01F00042017         1933.667504         2047.754333  \n"
     ]
    }
   ],
   "source": [
    "full_X_sc = scaler.transform(full_X)\n",
    "full_sample_predictions = nn.predict(full_X_sc)\n",
    "predictions_df = pd.DataFrame(index=full_X.index)\n",
    "predictions_df['nn_satellite_yield'] = full_sample_predictions\n",
    "results = results.join(predictions_df)\n",
    "print(results.head())"
   ]
  },
  {
   "cell_type": "markdown",
   "metadata": {},
   "source": [
    "# Farmer-reported yields"
   ]
  },
  {
   "cell_type": "markdown",
   "metadata": {},
   "source": [
    "Thurd, examine satellite yield measurements. "
   ]
  },
  {
   "cell_type": "markdown",
   "metadata": {},
   "source": [
    "## Data preparation and imports"
   ]
  },
  {
   "cell_type": "code",
   "execution_count": 28,
   "metadata": {},
   "outputs": [],
   "source": [
    "raw_df = pd.read_csv('../data/nosync/yield_prediction.csv')\n",
    "raw_df.set_index('id', inplace=True)\n",
    "\n",
    "raw_df.drop(columns = ['max_re705_', 'satellite_yield_'], inplace=True)  # Just look at Red-edge NDVI values for now\n",
    "\n",
    "raw_df.dropna(subset=['yield_hectare_'], inplace=True)\n",
    "\n",
    "# Imput missing DVs to the median \n",
    "fill_NaN = SimpleImputer(strategy='median')\n",
    "df = pd.DataFrame(fill_NaN.fit_transform(raw_df))\n",
    "df.columns = raw_df.columns\n",
    "df.index = raw_df.index\n",
    "\n",
    "# Copy dataframe, then remove 2018 treatment \n",
    "# Full DF is what we later generate final predictions off of, so we replace 2018 rainfall with 2017 values\n",
    "full_df = df.copy(deep=True)\n",
    "df.drop(df.loc[raw_df['treatment']==1].index, inplace=True) \n",
    "df.drop(columns=['treatment'], inplace=True)\n",
    "full_df.drop(columns=['treatment'], inplace=True)\n",
    "full_df['uid'] = full_df.index.str[:-4]\n",
    "full_df['year'] = pd.to_numeric(full_df.index.str[-4:])\n",
    "full_df.loc[full_df['year'] == 2018, 'rain_june_'] = None \n",
    "full_df['rain_june_'] = full_df.groupby(['uid'])['rain_june_'].ffill()\n",
    "full_df.loc[full_df['year'] == 2018, 'rain_july_'] = None \n",
    "full_df['rain_july_'] = full_df.groupby(['uid'])['rain_july_'].ffill()\n",
    "full_df.loc[full_df['year'] == 2018, 'rain_august_'] = None \n",
    "full_df['rain_august_'] = full_df.groupby(['uid'])['rain_august_'].ffill()\n",
    "full_df.loc[full_df['year'] == 2018, 'rain_september_'] = None \n",
    "full_df['rain_september_'] = full_df.groupby(['uid'])['rain_september_'].ffill()\n",
    "full_df.loc[full_df['year'] == 2018, 'rain_october_'] = None \n",
    "full_df['rain_october_'] = full_df.groupby(['uid'])['rain_october_'].ffill()\n",
    "full_df.drop(columns=['uid', 'year'], inplace=True)\n",
    "# Since we don't have 2017 data for some plots, there will be missing rainfall. Drop these.\n",
    "full_df.dropna(subset=['rain_june_'], inplace=True)\n",
    "\n",
    "# Separate IVs and DVs\n",
    "y = df[['yield_hectare_']]\n",
    "X = df.drop(columns=['yield_hectare_'])\n",
    "full_y = full_df[['yield_hectare_']]\n",
    "full_X = full_df.drop(columns=['yield_hectare_'])\n",
    "\n",
    "# Split data into training and testing samples \n",
    "X_train, X_test, y_train, y_test = train_test_split(X, y, test_size=0.2, random_state=1)\n",
    "y_train = y_train.values.ravel()\n",
    "y_test = y_test.values.ravel()\n",
    "\n",
    "# Define function to compute R2\n",
    "def scoreR2(predictor, X, true_y):\n",
    "    predictions = predictor.predict(X)\n",
    "    return r2_score(true_y, predictions)\n"
   ]
  },
  {
   "cell_type": "code",
   "execution_count": 29,
   "metadata": {},
   "outputs": [],
   "source": [
    "# Define a function to plot out of sample predictions vs true values colored by year \n",
    "def scatter_out_of_sample(model):\n",
    "    validate_year_2018 = X_test[['year_2018']].reset_index().drop(columns=['id'])\n",
    "    predictions = model.predict(X_test)\n",
    "    predictions = pd.DataFrame(predictions)\n",
    "    predictions.rename(columns={0: 'prediction'}, inplace=True)\n",
    "    predictions = predictions.join(pd.DataFrame(y_test).rename(columns={0: 'yield_hectare_'}))\n",
    "    predictions = predictions.join(validate_year_2018)\n",
    "\n",
    "    year_2018 = [0, 1]\n",
    "    z = [1, 2]\n",
    "    hot = plt.get_cmap('hot')\n",
    "    cNorm = colors.Normalize(vmin=0, vmax=2)\n",
    "    scalarMap = cmx.ScalarMappable(norm=cNorm, cmap=hot)\n",
    "\n",
    "    x = predictions['prediction']\n",
    "    y = predictions['yield_hectare_']\n",
    "    \n",
    "    fig, ax = plt.subplots()\n",
    "\n",
    "    for i in [0, 1]:\n",
    "        label = 2017 + i\n",
    "        indx = predictions['year_2018'] == i\n",
    "        plt.scatter(x[indx], y[indx], s=15, color=scalarMap.to_rgba(i), label=label)\n",
    "    \n",
    "    _x = np.linspace(*ax.get_xlim())\n",
    "    ax.plot(_x, _x)\n",
    "\n",
    "    plt.title('Predicted vs actual productivity, N = {}, R^2 = {}'.format(len(y_test), '%.2f'%scoreR2(model, X_test, y_test)))\n",
    "    plt.xlabel(\"Out of sample prediction\")\n",
    "    plt.ylabel(\"yield_hectare_\")\n",
    "    plt.legend(loc='upper left')\n",
    "    plt.show()"
   ]
  },
  {
   "cell_type": "markdown",
   "metadata": {},
   "source": [
    "## Elastic net"
   ]
  },
  {
   "cell_type": "code",
   "execution_count": 30,
   "metadata": {},
   "outputs": [
    {
     "name": "stdout",
     "output_type": "stream",
     "text": [
      "Optimal alpha: 0.16208458\n",
      "Optimal l1_ratio: 1.000\n",
      "Number of iterations 171\n",
      "Training R^2: 0.32779573029669484\n",
      "Out of sample R^2: 0.36796963781531966\n"
     ]
    }
   ],
   "source": [
    "e_net_cv = ElasticNetCV(l1_ratio=[.1, .5, .7, .9, .95, .99, .995, 1], eps=0.001, n_alphas=100, fit_intercept=True, \n",
    "                        normalize=True, precompute='auto', max_iter=10000, tol=0.0001, cv=5, \n",
    "                        copy_X=True, verbose=0, n_jobs=2, selection='cyclic')\n",
    "\n",
    "e_net_cv.fit(X_train, y_train)\n",
    "\n",
    "print('Optimal alpha: %.8f'%e_net_cv.alpha_)\n",
    "print('Optimal l1_ratio: %.3f'%e_net_cv.l1_ratio_)\n",
    "print('Number of iterations %d'%e_net_cv.n_iter_)\n",
    "\n",
    "e_net = ElasticNet(l1_ratio=e_net_cv.l1_ratio_, alpha = e_net_cv.alpha_, \n",
    "                        max_iter=e_net_cv.n_iter_, fit_intercept=True, normalize = True)\n",
    "e_net.fit(X_train, y_train)\n",
    "\n",
    "print(\"Training R^2: {}\".format(scoreR2(e_net, X_train, y_train)))\n",
    "print(\"Out of sample R^2: {}\".format(scoreR2(e_net, X_test, y_test)))"
   ]
  },
  {
   "cell_type": "markdown",
   "metadata": {},
   "source": [
    "### Feature importance"
   ]
  },
  {
   "cell_type": "code",
   "execution_count": 31,
   "metadata": {},
   "outputs": [
    {
     "data": {
      "text/plain": [
       "<matplotlib.axes._subplots.AxesSubplot at 0x7f24cc766b38>"
      ]
     },
     "execution_count": 31,
     "metadata": {},
     "output_type": "execute_result"
    },
    {
     "data": {
      "image/png": "[encoded data removed]",
      "text/plain": [
       "<Figure size 1296x432 with 1 Axes>"
      ]
     },
     "metadata": {
      "needs_background": "light"
     },
     "output_type": "display_data"
    }
   ],
   "source": [
    "feature_importance = pd.Series(index = X_train.columns, data = np.abs(e_net.coef_))\n",
    "feature_importance.sort_values().tail(10).plot(kind = 'bar', figsize = (18,6))"
   ]
  },
  {
   "cell_type": "markdown",
   "metadata": {},
   "source": [
    "### Scatter plot: predicted vs true value out of sample "
   ]
  },
  {
   "cell_type": "code",
   "execution_count": 32,
   "metadata": {
    "scrolled": false
   },
   "outputs": [
    {
     "data": {
      "image/png": "[encoded data removed]",
      "text/plain": [
       "<Figure size 432x288 with 1 Axes>"
      ]
     },
     "metadata": {
      "needs_background": "light"
     },
     "output_type": "display_data"
    }
   ],
   "source": [
    "scatter_out_of_sample(e_net)"
   ]
  },
  {
   "cell_type": "markdown",
   "metadata": {},
   "source": [
    "### Save predictions "
   ]
  },
  {
   "cell_type": "code",
   "execution_count": 33,
   "metadata": {
    "scrolled": false
   },
   "outputs": [
    {
     "name": "stdout",
     "output_type": "stream",
     "text": [
      "                         uid  year  treatment  yield_hectare_2017  \\\n",
      "id                                                                  \n",
      "B01V01F00012017  B01V01F0001  2017          0           797.59241   \n",
      "B01V01F00012018  B01V01F0001  2018          0           797.59241   \n",
      "B01V01F00022017  B01V01F0002  2017          0          2396.62520   \n",
      "B01V01F00022018  B01V01F0002  2018          0          2396.62520   \n",
      "B01V01F00042017  B01V01F0004  2017          1          1758.19520   \n",
      "\n",
      "                 sat_yield_2017  max_re705_2016  max_re705_2017  e_net_re705  \\\n",
      "id                                                                             \n",
      "B01V01F00012017       1566.7423        0.227357        0.291366     0.370383   \n",
      "B01V01F00012018       1566.7423        0.227357        0.291366     0.381528   \n",
      "B01V01F00022017       2100.2913        0.422249        0.448436     0.399262   \n",
      "B01V01F00022018       2100.2913        0.422249        0.448436     0.403822   \n",
      "B01V01F00042017       2053.3210        0.378115        0.434609     0.395725   \n",
      "\n",
      "                 rf_re705  nn_re705  e_net_satellite_yield  \\\n",
      "id                                                           \n",
      "B01V01F00012017  0.345897  0.446070            1786.354899   \n",
      "B01V01F00012018  0.369649  0.395487            1822.820793   \n",
      "B01V01F00022017  0.419498  0.402174            1892.586154   \n",
      "B01V01F00022018  0.401183  0.361928            1905.322977   \n",
      "B01V01F00042017  0.393702  0.462966            1873.299400   \n",
      "\n",
      "                 rf_satellite_yield  nn_satellite_yield  e_net_fr_yield  \n",
      "id                                                                       \n",
      "B01V01F00012017         1799.660667         1996.299450     1785.387023  \n",
      "B01V01F00012018         1742.543060         1713.707438     1510.682854  \n",
      "B01V01F00022017         1995.386292         1738.602560     1971.931562  \n",
      "B01V01F00022018         1826.153239         1418.074020     1862.646405  \n",
      "B01V01F00042017         1933.667504         2047.754333     2071.734987  \n"
     ]
    }
   ],
   "source": [
    "full_sample_predictions = e_net.predict(full_X)\n",
    "predictions_df = pd.DataFrame(index=full_X.index)\n",
    "predictions_df['e_net_fr_yield'] = full_sample_predictions\n",
    "results = results.join(predictions_df)\n",
    "print(results.head())"
   ]
  },
  {
   "cell_type": "markdown",
   "metadata": {},
   "source": [
    "## Random forest"
   ]
  },
  {
   "cell_type": "code",
   "execution_count": 34,
   "metadata": {},
   "outputs": [
    {
     "name": "stdout",
     "output_type": "stream",
     "text": [
      "Training R^2: 0.7187106368251477\n",
      "Out of sample R^2: 0.40736642949645674\n"
     ]
    }
   ],
   "source": [
    "#Use hyperparameters selected via gridsearchcv in the original yield prediction notebook\n",
    "hyperparameters = {'bootstrap': True, 'max_depth': 15, 'max_features': 'sqrt', \n",
    "                   'min_samples_leaf': 4, 'min_samples_split': 3, 'n_estimators': 500}\n",
    "\n",
    "rf = RandomForestRegressor(**hyperparameters)\n",
    "rf.fit(X_train, y_train)\n",
    "\n",
    "print(\"Training R^2: {}\".format(scoreR2(rf, X_train, y_train)))\n",
    "print(\"Out of sample R^2: {}\".format(scoreR2(rf, X_test, y_test)))"
   ]
  },
  {
   "cell_type": "markdown",
   "metadata": {},
   "source": [
    "### Feature importances "
   ]
  },
  {
   "cell_type": "code",
   "execution_count": 35,
   "metadata": {},
   "outputs": [
    {
     "name": "stdout",
     "output_type": "stream",
     "text": [
      "                      importance\n",
      "irrigation_             0.103190\n",
      "urea_                   0.101416\n",
      "rain_september_         0.075967\n",
      "rain_june_              0.066220\n",
      "rain_july_              0.060510\n",
      "rain_august_            0.056945\n",
      "sow_time                0.056149\n",
      "potash_value            0.054826\n",
      "lag_re705_              0.053566\n",
      "rain_october_           0.042724\n",
      "dap_                    0.040164\n",
      "ec_value                0.038745\n",
      "ph_value                0.037506\n",
      "sulphur_value           0.031228\n",
      "nitrogen_value          0.031197\n",
      "soil_test_zinc_value    0.030643\n",
      "phosphorous_value       0.028820\n",
      "iron_value              0.025987\n",
      "year_2018               0.019550\n",
      "knowledge_              0.017434\n"
     ]
    }
   ],
   "source": [
    "feature_importances = pd.DataFrame(rf.feature_importances_, index=X_train.columns, \n",
    "                                   columns=['importance']).sort_values('importance',ascending=False)\n",
    "print(feature_importances.head(20))"
   ]
  },
  {
   "cell_type": "markdown",
   "metadata": {},
   "source": [
    "### Scatter plot: predicted vs true value out of sample "
   ]
  },
  {
   "cell_type": "code",
   "execution_count": 36,
   "metadata": {},
   "outputs": [
    {
     "data": {
      "image/png": "[encoded data removed]",
      "text/plain": [
       "<Figure size 432x288 with 1 Axes>"
      ]
     },
     "metadata": {
      "needs_background": "light"
     },
     "output_type": "display_data"
    }
   ],
   "source": [
    "scatter_out_of_sample(rf)"
   ]
  },
  {
   "cell_type": "markdown",
   "metadata": {},
   "source": [
    "### Save predictions "
   ]
  },
  {
   "cell_type": "code",
   "execution_count": 37,
   "metadata": {},
   "outputs": [
    {
     "name": "stdout",
     "output_type": "stream",
     "text": [
      "                         uid  year  treatment  yield_hectare_2017  \\\n",
      "id                                                                  \n",
      "B01V01F00012017  B01V01F0001  2017          0           797.59241   \n",
      "B01V01F00012018  B01V01F0001  2018          0           797.59241   \n",
      "B01V01F00022017  B01V01F0002  2017          0          2396.62520   \n",
      "B01V01F00022018  B01V01F0002  2018          0          2396.62520   \n",
      "B01V01F00042017  B01V01F0004  2017          1          1758.19520   \n",
      "\n",
      "                 sat_yield_2017  max_re705_2016  max_re705_2017  e_net_re705  \\\n",
      "id                                                                             \n",
      "B01V01F00012017       1566.7423        0.227357        0.291366     0.370383   \n",
      "B01V01F00012018       1566.7423        0.227357        0.291366     0.381528   \n",
      "B01V01F00022017       2100.2913        0.422249        0.448436     0.399262   \n",
      "B01V01F00022018       2100.2913        0.422249        0.448436     0.403822   \n",
      "B01V01F00042017       2053.3210        0.378115        0.434609     0.395725   \n",
      "\n",
      "                 rf_re705  nn_re705  e_net_satellite_yield  \\\n",
      "id                                                           \n",
      "B01V01F00012017  0.345897  0.446070            1786.354899   \n",
      "B01V01F00012018  0.369649  0.395487            1822.820793   \n",
      "B01V01F00022017  0.419498  0.402174            1892.586154   \n",
      "B01V01F00022018  0.401183  0.361928            1905.322977   \n",
      "B01V01F00042017  0.393702  0.462966            1873.299400   \n",
      "\n",
      "                 rf_satellite_yield  nn_satellite_yield  e_net_fr_yield  \\\n",
      "id                                                                        \n",
      "B01V01F00012017         1799.660667         1996.299450     1785.387023   \n",
      "B01V01F00012018         1742.543060         1713.707438     1510.682854   \n",
      "B01V01F00022017         1995.386292         1738.602560     1971.931562   \n",
      "B01V01F00022018         1826.153239         1418.074020     1862.646405   \n",
      "B01V01F00042017         1933.667504         2047.754333     2071.734987   \n",
      "\n",
      "                 rf_fr_yield  \n",
      "id                            \n",
      "B01V01F00012017  1539.499922  \n",
      "B01V01F00012018  1422.321112  \n",
      "B01V01F00022017  2094.464404  \n",
      "B01V01F00022018  1708.002600  \n",
      "B01V01F00042017  1949.188587  \n"
     ]
    }
   ],
   "source": [
    "full_sample_predictions = rf.predict(full_X)\n",
    "predictions_df = pd.DataFrame(index=full_X.index)\n",
    "predictions_df['rf_fr_yield'] = full_sample_predictions\n",
    "results = results.join(predictions_df)\n",
    "print(results.head())"
   ]
  },
  {
   "cell_type": "markdown",
   "metadata": {},
   "source": [
    "## Neural net"
   ]
  },
  {
   "cell_type": "code",
   "execution_count": 38,
   "metadata": {},
   "outputs": [
    {
     "name": "stdout",
     "output_type": "stream",
     "text": [
      "Training R^2: 0.4011558134294497\n",
      "Out of sample R^2: 0.3300245833750609\n"
     ]
    }
   ],
   "source": [
    "scaler = StandardScaler().fit(X_train)\n",
    "X_train_sc = scaler.transform(X_train)\n",
    "X_test_sc = scaler.transform(X_test)\n",
    "\n",
    "nn = MLPRegressor(\n",
    "    hidden_layer_sizes=(250,250,250,250,), activation='relu',\n",
    "    early_stopping=True, learning_rate='adaptive', \n",
    "    max_iter=5000, learning_rate_init=0.001, random_state=7)\n",
    "\n",
    "nn.fit(X_train_sc, y_train)\n",
    "print(\"Training R^2: {}\".format(scoreR2(nn, X_train_sc, y_train)))\n",
    "print(\"Out of sample R^2: {}\".format(scoreR2(nn, X_test_sc, y_test)))"
   ]
  },
  {
   "cell_type": "markdown",
   "metadata": {},
   "source": [
    "### Scatter plot: predicted vs true value out of sample"
   ]
  },
  {
   "cell_type": "code",
   "execution_count": 39,
   "metadata": {},
   "outputs": [
    {
     "data": {
      "image/png": "[encoded data removed]",
      "text/plain": [
       "<Figure size 432x288 with 1 Axes>"
      ]
     },
     "metadata": {
      "needs_background": "light"
     },
     "output_type": "display_data"
    }
   ],
   "source": [
    "validate_year_2018 = X_test[['year_2018']].reset_index().drop(columns=['id'])\n",
    "predictions = nn.predict(X_test_sc)\n",
    "predictions = pd.DataFrame(predictions)\n",
    "predictions.rename(columns={0: 'prediction'}, inplace=True)\n",
    "predictions = predictions.join(pd.DataFrame(y_test).rename(columns={0: 'yield_hectare_'}))\n",
    "predictions = predictions.join(validate_year_2018)\n",
    "\n",
    "year_2018 = [0, 1]\n",
    "z = [1, 2]\n",
    "hot = plt.get_cmap('hot')\n",
    "cNorm = colors.Normalize(vmin=0, vmax=2)\n",
    "scalarMap = cmx.ScalarMappable(norm=cNorm, cmap=hot)\n",
    "\n",
    "x = predictions['prediction']\n",
    "y = predictions['yield_hectare_']\n",
    "\n",
    "fig, ax = plt.subplots()\n",
    "\n",
    "for i in [0, 1]:\n",
    "    label = 2017 + i\n",
    "    indx = predictions['year_2018'] == i\n",
    "    plt.scatter(x[indx], y[indx], s=15, color=scalarMap.to_rgba(i), label=label)\n",
    "\n",
    "_x = np.linspace(*ax.get_xlim())\n",
    "ax.plot(_x, _x)\n",
    "\n",
    "plt.title('Predicted vs actual productivity, N = {}, R^2 = {}'.format(len(y_test), '%.2f'%scoreR2(nn, X_test_sc, y_test)))\n",
    "plt.xlabel(\"Out of sample prediction\")\n",
    "plt.ylabel(\"yield_hectare_\")\n",
    "plt.legend(loc='upper left')\n",
    "plt.show()"
   ]
  },
  {
   "cell_type": "markdown",
   "metadata": {},
   "source": [
    "### Save predictions"
   ]
  },
  {
   "cell_type": "code",
   "execution_count": 40,
   "metadata": {
    "scrolled": false
   },
   "outputs": [
    {
     "name": "stdout",
     "output_type": "stream",
     "text": [
      "                         uid  year  treatment  yield_hectare_2017  \\\n",
      "id                                                                  \n",
      "B01V01F00012017  B01V01F0001  2017          0           797.59241   \n",
      "B01V01F00012018  B01V01F0001  2018          0           797.59241   \n",
      "B01V01F00022017  B01V01F0002  2017          0          2396.62520   \n",
      "B01V01F00022018  B01V01F0002  2018          0          2396.62520   \n",
      "B01V01F00042017  B01V01F0004  2017          1          1758.19520   \n",
      "\n",
      "                 sat_yield_2017  max_re705_2016  max_re705_2017  e_net_re705  \\\n",
      "id                                                                             \n",
      "B01V01F00012017       1566.7423        0.227357        0.291366     0.370383   \n",
      "B01V01F00012018       1566.7423        0.227357        0.291366     0.381528   \n",
      "B01V01F00022017       2100.2913        0.422249        0.448436     0.399262   \n",
      "B01V01F00022018       2100.2913        0.422249        0.448436     0.403822   \n",
      "B01V01F00042017       2053.3210        0.378115        0.434609     0.395725   \n",
      "\n",
      "                 rf_re705  nn_re705  e_net_satellite_yield  \\\n",
      "id                                                           \n",
      "B01V01F00012017  0.345897  0.446070            1786.354899   \n",
      "B01V01F00012018  0.369649  0.395487            1822.820793   \n",
      "B01V01F00022017  0.419498  0.402174            1892.586154   \n",
      "B01V01F00022018  0.401183  0.361928            1905.322977   \n",
      "B01V01F00042017  0.393702  0.462966            1873.299400   \n",
      "\n",
      "                 rf_satellite_yield  nn_satellite_yield  e_net_fr_yield  \\\n",
      "id                                                                        \n",
      "B01V01F00012017         1799.660667         1996.299450     1785.387023   \n",
      "B01V01F00012018         1742.543060         1713.707438     1510.682854   \n",
      "B01V01F00022017         1995.386292         1738.602560     1971.931562   \n",
      "B01V01F00022018         1826.153239         1418.074020     1862.646405   \n",
      "B01V01F00042017         1933.667504         2047.754333     2071.734987   \n",
      "\n",
      "                 rf_fr_yield  nn_fr_yield  \n",
      "id                                         \n",
      "B01V01F00012017  1539.499922  2062.733073  \n",
      "B01V01F00012018  1422.321112  1536.952218  \n",
      "B01V01F00022017  2094.464404  2046.360093  \n",
      "B01V01F00022018  1708.002600  1536.939653  \n",
      "B01V01F00042017  1949.188587  2451.293862  \n"
     ]
    }
   ],
   "source": [
    "full_X_sc = scaler.transform(full_X)\n",
    "full_sample_predictions = nn.predict(full_X_sc)\n",
    "predictions_df = pd.DataFrame(index=full_X.index)\n",
    "predictions_df['nn_fr_yield'] = full_sample_predictions\n",
    "results = results.join(predictions_df)\n",
    "print(results.head())\n",
    "results.to_csv('../data/nosync/predicted_counterfactual_yields.csv')"
   ]
  },
  {
   "cell_type": "markdown",
   "metadata": {},
   "source": [
    "# Analysis "
   ]
  },
  {
   "cell_type": "markdown",
   "metadata": {},
   "source": [
    "We next examine whether there is an expected treatment effect given the predicted yields."
   ]
  },
  {
   "cell_type": "markdown",
   "metadata": {},
   "source": [
    "## Reshape results to wide"
   ]
  },
  {
   "cell_type": "code",
   "execution_count": 41,
   "metadata": {},
   "outputs": [],
   "source": [
    "values = [x for x in results.columns if x not in ['uid', 'year']]\n",
    "results['year'] = pd.to_numeric(results['year'])\n",
    "results_wide = results.pivot(index='uid', columns='year', values=values)\n",
    "results_wide.columns = results_wide.columns.to_flat_index()\n",
    "\n",
    "years = [2017, 2018]\n",
    "to_rename = {}\n",
    "to_drop = []\n",
    "for x in values:\n",
    "    #  First process variables that are not constant across years\n",
    "    if x in ['e_net_re705', 'e_net_satellite_yield', 'e_net_fr_yield',\n",
    "            'rf_re705', 'rf_satellite_yield', 'rf_fr_yield',\n",
    "            'nn_re705', 'nn_satellite_yield', 'nn_fr_yield']:\n",
    "        for y in years:\n",
    "            to_rename[(x,y)] = x + '_' + str(y)\n",
    "    #  Second process variables that are constant across years\n",
    "    else:\n",
    "        to_rename[(x,years[0])] = x\n",
    "        to_drop.append((x,years[1]))\n",
    "\n",
    "results_wide.drop(columns=to_drop, inplace=True)\n",
    "results_wide.rename(columns=to_rename, inplace=True)"
   ]
  },
  {
   "cell_type": "markdown",
   "metadata": {},
   "source": [
    "## reNDVI"
   ]
  },
  {
   "cell_type": "code",
   "execution_count": 42,
   "metadata": {
    "scrolled": true
   },
   "outputs": [
    {
     "name": "stderr",
     "output_type": "stream",
     "text": [
      "R[write to console]: Registered S3 methods overwritten by 'broom':\n",
      "  method            from  \n",
      "  tidy.glht         jtools\n",
      "  tidy.summary.glht jtools\n",
      "\n",
      "R[write to console]: Loading required namespace: broom.mixed\n",
      "\n"
     ]
    },
    {
     "name": "stdout",
     "output_type": "stream",
     "text": [
      "\u001b[4mMODEL INFO:\u001b[24m\n",
      "\u001b[3mObservations:\u001b[23m 1385 (3 missing obs. deleted)\n",
      "\u001b[3mDependent Variable:\u001b[23m rf_re705_2018\n",
      "\u001b[3mType:\u001b[23m OLS linear regression \n",
      "\n",
      "\u001b[4mMODEL FIT:\u001b[24m\n",
      "\u001b[3mF\u001b[23m(3,1381) = 904.32, \u001b[3mp\u001b[23m = 0.00\n",
      "\u001b[3mR² = \u001b[23m0.66\n",
      "\u001b[3mAdj. R² = \u001b[23m0.66 \n",
      "\n",
      "\u001b[3mStandard errors:\u001b[23m Robust, \u001b[3mtype = \u001b[23mHC1\n",
      "--------------------------------------------------\n",
      "                       Est.   S.E.   t val.      p\n",
      "-------------------- ------ ------ -------- ------\n",
      "(Intercept)            0.21   0.00    48.80   0.00\n",
      "treatment              0.00   0.00     0.38   0.70\n",
      "max_re705_2017         0.36   0.01    38.69   0.00\n",
      "max_re705_2016         0.08   0.01     8.34   0.00\n",
      "--------------------------------------------------\n",
      "\n"
     ]
    },
    {
     "name": "stderr",
     "output_type": "stream",
     "text": [
      "R[write to console]: Registered S3 methods overwritten by 'broom.mixed':\n",
      "  method         from \n",
      "  augment.lme    broom\n",
      "  augment.merMod broom\n",
      "  glance.lme     broom\n",
      "  glance.merMod  broom\n",
      "  glance.stanreg broom\n",
      "  tidy.brmsfit   broom\n",
      "  tidy.gamlss    broom\n",
      "  tidy.lme       broom\n",
      "  tidy.merMod    broom\n",
      "  tidy.rjags     broom\n",
      "  tidy.stanfit   broom\n",
      "  tidy.stanreg   broom\n",
      "\n"
     ]
    },
    {
     "data": {
      "image/png": "[encoded data removed]",
      "text/plain": [
       "<IPython.core.display.Image object>"
      ]
     },
     "execution_count": 42,
     "metadata": {},
     "output_type": "execute_result"
    }
   ],
   "source": [
    "robjects.globalenv['results'] = results_wide\n",
    "re705_e_net = stats.lm('e_net_re705_2018 ~ treatment + max_re705_2017 + max_re705_2016', data=base.as_symbol('results'))\n",
    "re705_rf = stats.lm('rf_re705_2018 ~ treatment + max_re705_2017 + max_re705_2016', data=base.as_symbol('results'))\n",
    "re705_nn = stats.lm('nn_re705_2018 ~ treatment + max_re705_2017 + max_re705_2016', data=base.as_symbol('results'))\n",
    "print(jtools.summ(re705_rf, robust = \"HC1\"))  # Print the regression results from the best model\n",
    "\n",
    "p = jtools.plot_summs(re705_e_net, re705_rf, re705_nn, ci_level = 0.95)  # Plot regression coefficients for each model\n",
    "image_png(p)"
   ]
  },
  {
   "cell_type": "code",
   "execution_count": 43,
   "metadata": {},
   "outputs": [],
   "source": [
    "%load_ext rpy2.ipython"
   ]
  },
  {
   "cell_type": "code",
   "execution_count": 44,
   "metadata": {},
   "outputs": [
    {
     "data": {
      "image/png": "[encoded data removed]"
     },
     "metadata": {},
     "output_type": "display_data"
    }
   ],
   "source": [
    "%%R\n",
    "re705_e_net = lm('e_net_re705_2018 ~ treatment + max_re705_2017 + max_re705_2016', data=results)\n",
    "re705_rf = lm('rf_re705_2018 ~ treatment + max_re705_2017 + max_re705_2016', data=results)\n",
    "re705_nn = lm('nn_re705_2018 ~ treatment + max_re705_2017 + max_re705_2016', data=results)\n",
    "coefs = c('treatment')\n",
    "names(coefs) = c('Treatment')\n",
    "plot_summs(re705_e_net, re705_rf, re705_nn, ci_level = 0.95, coefs=coefs,\n",
    "          model.names=c('Elastic net', 'Random forest', 'Neural net'))"
   ]
  },
  {
   "cell_type": "markdown",
   "metadata": {},
   "source": [
    "## Satellite yield"
   ]
  },
  {
   "cell_type": "code",
   "execution_count": 45,
   "metadata": {
    "scrolled": true
   },
   "outputs": [
    {
     "name": "stdout",
     "output_type": "stream",
     "text": [
      "\u001b[4mMODEL INFO:\u001b[24m\n",
      "\u001b[3mObservations:\u001b[23m 1385 (3 missing obs. deleted)\n",
      "\u001b[3mDependent Variable:\u001b[23m rf_satellite_yield_2018\n",
      "\u001b[3mType:\u001b[23m OLS linear regression \n",
      "\n",
      "\u001b[4mMODEL FIT:\u001b[24m\n",
      "\u001b[3mF\u001b[23m(3,1381) = 905.84, \u001b[3mp\u001b[23m = 0.00\n",
      "\u001b[3mR² = \u001b[23m0.66\n",
      "\u001b[3mAdj. R² = \u001b[23m0.66 \n",
      "\n",
      "\u001b[3mStandard errors:\u001b[23m Robust, \u001b[3mtype = \u001b[23mHC1\n",
      "------------------------------------------------------\n",
      "                          Est.    S.E.   t val.      p\n",
      "-------------------- --------- ------- -------- ------\n",
      "(Intercept)            1006.53   16.94    59.43   0.00\n",
      "treatment                 0.05    5.80     0.01   0.99\n",
      "sat_yield_2017            0.35    0.01    39.79   0.00\n",
      "max_re705_2016          213.09   30.36     7.02   0.00\n",
      "------------------------------------------------------\n",
      "\n"
     ]
    }
   ],
   "source": [
    "sat_e_net = stats.lm('e_net_satellite_yield_2018 ~ treatment + sat_yield_2017 + max_re705_2016', data=base.as_symbol('results'))\n",
    "sat_rf = stats.lm('rf_satellite_yield_2018 ~ treatment + sat_yield_2017 + max_re705_2016', data=base.as_symbol('results'))\n",
    "sat_nn = stats.lm('nn_satellite_yield_2018 ~ treatment + sat_yield_2017 + max_re705_2016', data=base.as_symbol('results'))\n",
    "print(jtools.summ(sat_rf, robust = \"HC1\"))  # Print the regression results from the best model"
   ]
  },
  {
   "cell_type": "code",
   "execution_count": 46,
   "metadata": {},
   "outputs": [
    {
     "data": {
      "image/png": "[encoded data removed]"
     },
     "metadata": {},
     "output_type": "display_data"
    }
   ],
   "source": [
    "%%R\n",
    "sat_e_net = lm('e_net_satellite_yield_2018 ~ treatment + sat_yield_2017 + max_re705_2016', results)\n",
    "sat_rf = lm('rf_satellite_yield_2018 ~ treatment + sat_yield_2017 + max_re705_2016', data=results)\n",
    "sat_nn = lm('nn_satellite_yield_2018 ~ treatment + sat_yield_2017 + max_re705_2016', data=results)\n",
    "coefs = c('treatment')\n",
    "names(coefs) = c('Treatment')\n",
    "plot_summs(sat_e_net, sat_rf, sat_nn, ci_level = 0.95, coefs=coefs,\n",
    "          model.names=c('Elastic net', 'Random forest', 'Neural net'))"
   ]
  },
  {
   "cell_type": "markdown",
   "metadata": {},
   "source": [
    "## Farmer-reported yield"
   ]
  },
  {
   "cell_type": "code",
   "execution_count": 47,
   "metadata": {
    "scrolled": true
   },
   "outputs": [
    {
     "name": "stdout",
     "output_type": "stream",
     "text": [
      "\u001b[4mMODEL INFO:\u001b[24m\n",
      "\u001b[3mObservations:\u001b[23m 1286 (102 missing obs. deleted)\n",
      "\u001b[3mDependent Variable:\u001b[23m rf_fr_yield_2018\n",
      "\u001b[3mType:\u001b[23m OLS linear regression \n",
      "\n",
      "\u001b[4mMODEL FIT:\u001b[24m\n",
      "\u001b[3mF\u001b[23m(2,1283) = 174.66, \u001b[3mp\u001b[23m = 0.00\n",
      "\u001b[3mR² = \u001b[23m0.21\n",
      "\u001b[3mAdj. R² = \u001b[23m0.21 \n",
      "\n",
      "\u001b[3mStandard errors:\u001b[23m Robust, \u001b[3mtype = \u001b[23mHC1\n",
      "----------------------------------------------------------\n",
      "                              Est.    S.E.   t val.      p\n",
      "------------------------ --------- ------- -------- ------\n",
      "(Intercept)                1293.51   24.30    53.22   0.00\n",
      "treatment                     8.57   21.21     0.40   0.69\n",
      "yield_hectare_2017            0.17    0.01    15.21   0.00\n",
      "----------------------------------------------------------\n",
      "\n"
     ]
    }
   ],
   "source": [
    "fr_e_net = stats.lm('e_net_fr_yield_2018 ~ treatment + yield_hectare_2017', data=base.as_symbol('results'))\n",
    "fr_rf = stats.lm('rf_fr_yield_2018 ~ treatment + yield_hectare_2017', data=base.as_symbol('results'))\n",
    "fr_nn = stats.lm('nn_fr_yield_2018 ~ treatment + yield_hectare_2017', data=base.as_symbol('results'))\n",
    "print(jtools.summ(fr_rf, robust = \"HC1\"))  # Print the regression results from the best model"
   ]
  },
  {
   "cell_type": "code",
   "execution_count": 48,
   "metadata": {},
   "outputs": [
    {
     "data": {
      "image/png": "[encoded data removed]"
     },
     "metadata": {},
     "output_type": "display_data"
    }
   ],
   "source": [
    "%%R\n",
    "fr_e_net = lm('e_net_fr_yield_2018 ~ treatment + yield_hectare_2017', results)\n",
    "fr_rf = lm('rf_fr_yield_2018 ~ treatment + yield_hectare_2017', data=results)\n",
    "fr_nn = lm('nn_fr_yield_2018 ~ treatment + yield_hectare_2017', data=results)\n",
    "coefs = c('treatment')\n",
    "names(coefs) = c('Treatment')\n",
    "plot_summs(fr_e_net, fr_rf, fr_nn, ci_level = 0.95, coefs=coefs,\n",
    "          model.names=c('Elastic net', 'Random forest', 'Neural net'))"
   ]
  }
 ],
 "metadata": {
  "kernelspec": {
   "display_name": "Python 3",
   "language": "python",
   "name": "python3"
  },
  "language_info": {
   "codemirror_mode": {
    "name": "ipython",
    "version": 3
   },
   "file_extension": ".py",
   "mimetype": "text/x-python",
   "name": "python",
   "nbconvert_exporter": "python",
   "pygments_lexer": "ipython3",
   "version": "3.6.10"
  }
 },
 "nbformat": 4,
 "nbformat_minor": 4
}
